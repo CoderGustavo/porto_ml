{
 "cells": [
  {
   "cell_type": "markdown",
   "metadata": {},
   "source": [
    "Instalando dependencias"
   ]
  },
  {
   "cell_type": "code",
   "execution_count": null,
   "metadata": {},
   "outputs": [
    {
     "name": "stdout",
     "output_type": "stream",
     "text": [
      "Requirement already satisfied: autogluon in c:\\users\\aluno\\desktop\\files_ml\\.conda\\lib\\site-packages (1.1.0)\n",
      "Requirement already satisfied: autogluon.core==1.1.0 in c:\\users\\aluno\\desktop\\files_ml\\.conda\\lib\\site-packages (from autogluon.core[all]==1.1.0->autogluon) (1.1.0)\n",
      "Requirement already satisfied: autogluon.features==1.1.0 in c:\\users\\aluno\\desktop\\files_ml\\.conda\\lib\\site-packages (from autogluon) (1.1.0)\n",
      "Requirement already satisfied: autogluon.tabular==1.1.0 in c:\\users\\aluno\\desktop\\files_ml\\.conda\\lib\\site-packages (from autogluon.tabular[all]==1.1.0->autogluon) (1.1.0)\n",
      "Requirement already satisfied: autogluon.multimodal==1.1.0 in c:\\users\\aluno\\desktop\\files_ml\\.conda\\lib\\site-packages (from autogluon) (1.1.0)\n",
      "Requirement already satisfied: autogluon.timeseries==1.1.0 in c:\\users\\aluno\\desktop\\files_ml\\.conda\\lib\\site-packages (from autogluon.timeseries[all]==1.1.0->autogluon) (1.1.0)\n",
      "Requirement already satisfied: numpy<1.29,>=1.21 in c:\\users\\aluno\\desktop\\files_ml\\.conda\\lib\\site-packages (from autogluon.core==1.1.0->autogluon.core[all]==1.1.0->autogluon) (1.26.4)\n",
      "Requirement already satisfied: scipy<1.13,>=1.5.4 in c:\\users\\aluno\\desktop\\files_ml\\.conda\\lib\\site-packages (from autogluon.core==1.1.0->autogluon.core[all]==1.1.0->autogluon) (1.12.0)\n",
      "Requirement already satisfied: scikit-learn<1.4.1,>=1.3.0 in c:\\users\\aluno\\desktop\\files_ml\\.conda\\lib\\site-packages (from autogluon.core==1.1.0->autogluon.core[all]==1.1.0->autogluon) (1.4.0)\n",
      "Requirement already satisfied: networkx<4,>=3.0 in c:\\users\\aluno\\desktop\\files_ml\\.conda\\lib\\site-packages (from autogluon.core==1.1.0->autogluon.core[all]==1.1.0->autogluon) (3.3)\n",
      "Requirement already satisfied: pandas<2.3.0,>=2.0.0 in c:\\users\\aluno\\desktop\\files_ml\\.conda\\lib\\site-packages (from autogluon.core==1.1.0->autogluon.core[all]==1.1.0->autogluon) (2.2.2)\n",
      "Requirement already satisfied: tqdm<5,>=4.38 in c:\\users\\aluno\\desktop\\files_ml\\.conda\\lib\\site-packages (from autogluon.core==1.1.0->autogluon.core[all]==1.1.0->autogluon) (4.65.2)\n",
      "Requirement already satisfied: requests in c:\\users\\aluno\\desktop\\files_ml\\.conda\\lib\\site-packages (from autogluon.core==1.1.0->autogluon.core[all]==1.1.0->autogluon) (2.28.2)\n",
      "Requirement already satisfied: matplotlib in c:\\users\\aluno\\desktop\\files_ml\\.conda\\lib\\site-packages (from autogluon.core==1.1.0->autogluon.core[all]==1.1.0->autogluon) (3.8.4)\n",
      "Requirement already satisfied: boto3<2,>=1.10 in c:\\users\\aluno\\desktop\\files_ml\\.conda\\lib\\site-packages (from autogluon.core==1.1.0->autogluon.core[all]==1.1.0->autogluon) (1.34.90)\n",
      "Requirement already satisfied: autogluon.common==1.1.0 in c:\\users\\aluno\\desktop\\files_ml\\.conda\\lib\\site-packages (from autogluon.core==1.1.0->autogluon.core[all]==1.1.0->autogluon) (1.1.0)\n",
      "Requirement already satisfied: ray<2.11,>=2.10.0 in c:\\users\\aluno\\desktop\\files_ml\\.conda\\lib\\site-packages (from ray[default,tune]<2.11,>=2.10.0; extra == \"all\"->autogluon.core[all]==1.1.0->autogluon) (2.10.0)\n",
      "Requirement already satisfied: hyperopt<0.2.8,>=0.2.7 in c:\\users\\aluno\\desktop\\files_ml\\.conda\\lib\\site-packages (from autogluon.core[all]==1.1.0->autogluon) (0.2.7)\n",
      "Requirement already satisfied: Pillow<11,>=10.0.1 in c:\\users\\aluno\\desktop\\files_ml\\.conda\\lib\\site-packages (from autogluon.multimodal==1.1.0->autogluon) (10.3.0)\n",
      "Requirement already satisfied: torch<2.2,>=2.1 in c:\\users\\aluno\\desktop\\files_ml\\.conda\\lib\\site-packages (from autogluon.multimodal==1.1.0->autogluon) (2.1.2)\n",
      "Requirement already satisfied: lightning<2.2,>=2.1 in c:\\users\\aluno\\desktop\\files_ml\\.conda\\lib\\site-packages (from autogluon.multimodal==1.1.0->autogluon) (2.1.4)\n",
      "Requirement already satisfied: transformers<4.39.0,>=4.38.0 in c:\\users\\aluno\\desktop\\files_ml\\.conda\\lib\\site-packages (from transformers[sentencepiece]<4.39.0,>=4.38.0->autogluon.multimodal==1.1.0->autogluon) (4.38.2)\n",
      "Requirement already satisfied: accelerate<0.22.0,>=0.21.0 in c:\\users\\aluno\\desktop\\files_ml\\.conda\\lib\\site-packages (from autogluon.multimodal==1.1.0->autogluon) (0.21.0)\n",
      "Requirement already satisfied: jsonschema<4.22,>=4.18 in c:\\users\\aluno\\desktop\\files_ml\\.conda\\lib\\site-packages (from autogluon.multimodal==1.1.0->autogluon) (4.21.1)\n",
      "Requirement already satisfied: seqeval<1.3.0,>=1.2.2 in c:\\users\\aluno\\desktop\\files_ml\\.conda\\lib\\site-packages (from autogluon.multimodal==1.1.0->autogluon) (1.2.2)\n",
      "Requirement already satisfied: evaluate<0.5.0,>=0.4.0 in c:\\users\\aluno\\desktop\\files_ml\\.conda\\lib\\site-packages (from autogluon.multimodal==1.1.0->autogluon) (0.4.1)\n",
      "Requirement already satisfied: timm<0.10.0,>=0.9.5 in c:\\users\\aluno\\desktop\\files_ml\\.conda\\lib\\site-packages (from autogluon.multimodal==1.1.0->autogluon) (0.9.16)\n",
      "Requirement already satisfied: torchvision<0.17.0,>=0.16.0 in c:\\users\\aluno\\desktop\\files_ml\\.conda\\lib\\site-packages (from autogluon.multimodal==1.1.0->autogluon) (0.16.2)\n",
      "Requirement already satisfied: scikit-image<0.21.0,>=0.19.1 in c:\\users\\aluno\\desktop\\files_ml\\.conda\\lib\\site-packages (from autogluon.multimodal==1.1.0->autogluon) (0.20.0)\n",
      "Requirement already satisfied: text-unidecode<1.4,>=1.3 in c:\\users\\aluno\\desktop\\files_ml\\.conda\\lib\\site-packages (from autogluon.multimodal==1.1.0->autogluon) (1.3)\n",
      "Requirement already satisfied: torchmetrics<1.3.0,>=1.2.0 in c:\\users\\aluno\\desktop\\files_ml\\.conda\\lib\\site-packages (from autogluon.multimodal==1.1.0->autogluon) (1.2.1)\n",
      "Requirement already satisfied: nptyping<2.5.0,>=1.4.4 in c:\\users\\aluno\\desktop\\files_ml\\.conda\\lib\\site-packages (from autogluon.multimodal==1.1.0->autogluon) (2.4.1)\n",
      "Requirement already satisfied: omegaconf<2.3.0,>=2.1.1 in c:\\users\\aluno\\desktop\\files_ml\\.conda\\lib\\site-packages (from autogluon.multimodal==1.1.0->autogluon) (2.2.3)\n",
      "Requirement already satisfied: pytorch-metric-learning<2.4,>=1.3.0 in c:\\users\\aluno\\desktop\\files_ml\\.conda\\lib\\site-packages (from autogluon.multimodal==1.1.0->autogluon) (2.3.0)\n",
      "Requirement already satisfied: nlpaug<1.2.0,>=1.1.10 in c:\\users\\aluno\\desktop\\files_ml\\.conda\\lib\\site-packages (from autogluon.multimodal==1.1.0->autogluon) (1.1.11)\n",
      "Requirement already satisfied: nltk<4.0.0,>=3.4.5 in c:\\users\\aluno\\desktop\\files_ml\\.conda\\lib\\site-packages (from autogluon.multimodal==1.1.0->autogluon) (3.8.1)\n",
      "Requirement already satisfied: openmim<0.4.0,>=0.3.7 in c:\\users\\aluno\\desktop\\files_ml\\.conda\\lib\\site-packages (from autogluon.multimodal==1.1.0->autogluon) (0.3.9)\n",
      "Requirement already satisfied: defusedxml<0.7.2,>=0.7.1 in c:\\users\\aluno\\desktop\\files_ml\\.conda\\lib\\site-packages (from autogluon.multimodal==1.1.0->autogluon) (0.7.1)\n",
      "Requirement already satisfied: jinja2<3.2,>=3.0.3 in c:\\users\\aluno\\desktop\\files_ml\\.conda\\lib\\site-packages (from autogluon.multimodal==1.1.0->autogluon) (3.1.3)\n",
      "Requirement already satisfied: tensorboard<3,>=2.9 in c:\\users\\aluno\\desktop\\files_ml\\.conda\\lib\\site-packages (from autogluon.multimodal==1.1.0->autogluon) (2.16.2)\n",
      "Requirement already satisfied: pytesseract<0.3.11,>=0.3.9 in c:\\users\\aluno\\desktop\\files_ml\\.conda\\lib\\site-packages (from autogluon.multimodal==1.1.0->autogluon) (0.3.10)\n",
      "Requirement already satisfied: nvidia-ml-py3==7.352.0 in c:\\users\\aluno\\desktop\\files_ml\\.conda\\lib\\site-packages (from autogluon.multimodal==1.1.0->autogluon) (7.352.0)\n",
      "Requirement already satisfied: pdf2image<1.19,>=1.17.0 in c:\\users\\aluno\\desktop\\files_ml\\.conda\\lib\\site-packages (from autogluon.multimodal==1.1.0->autogluon) (1.17.0)\n",
      "Requirement already satisfied: xgboost<2.1,>=1.6 in c:\\users\\aluno\\desktop\\files_ml\\.conda\\lib\\site-packages (from autogluon.tabular[all]==1.1.0->autogluon) (2.0.3)\n",
      "Requirement already satisfied: fastai<2.8,>=2.3.1 in c:\\users\\aluno\\desktop\\files_ml\\.conda\\lib\\site-packages (from autogluon.tabular[all]==1.1.0->autogluon) (2.7.14)\n",
      "Requirement already satisfied: lightgbm<4.4,>=3.3 in c:\\users\\aluno\\desktop\\files_ml\\.conda\\lib\\site-packages (from autogluon.tabular[all]==1.1.0->autogluon) (4.3.0)\n",
      "Requirement already satisfied: catboost<1.3,>=1.1 in c:\\users\\aluno\\desktop\\files_ml\\.conda\\lib\\site-packages (from autogluon.tabular[all]==1.1.0->autogluon) (1.2.5)\n",
      "Requirement already satisfied: joblib<2,>=1.1 in c:\\users\\aluno\\desktop\\files_ml\\.conda\\lib\\site-packages (from autogluon.timeseries==1.1.0->autogluon.timeseries[all]==1.1.0->autogluon) (1.4.0)\n",
      "Requirement already satisfied: pytorch-lightning<2.2,>=2.1 in c:\\users\\aluno\\desktop\\files_ml\\.conda\\lib\\site-packages (from autogluon.timeseries==1.1.0->autogluon.timeseries[all]==1.1.0->autogluon) (2.1.4)\n",
      "Requirement already satisfied: gluonts<0.14.4,>=0.14.0 in c:\\users\\aluno\\desktop\\files_ml\\.conda\\lib\\site-packages (from autogluon.timeseries==1.1.0->autogluon.timeseries[all]==1.1.0->autogluon) (0.14.3)\n",
      "Requirement already satisfied: statsforecast<1.5,>=1.4.0 in c:\\users\\aluno\\desktop\\files_ml\\.conda\\lib\\site-packages (from autogluon.timeseries==1.1.0->autogluon.timeseries[all]==1.1.0->autogluon) (1.4.0)\n",
      "Requirement already satisfied: mlforecast<0.10.1,>=0.10.0 in c:\\users\\aluno\\desktop\\files_ml\\.conda\\lib\\site-packages (from autogluon.timeseries==1.1.0->autogluon.timeseries[all]==1.1.0->autogluon) (0.10.0)\n",
      "Requirement already satisfied: utilsforecast<0.0.11,>=0.0.10 in c:\\users\\aluno\\desktop\\files_ml\\.conda\\lib\\site-packages (from autogluon.timeseries==1.1.0->autogluon.timeseries[all]==1.1.0->autogluon) (0.0.10)\n",
      "Requirement already satisfied: orjson~=3.9 in c:\\users\\aluno\\desktop\\files_ml\\.conda\\lib\\site-packages (from autogluon.timeseries==1.1.0->autogluon.timeseries[all]==1.1.0->autogluon) (3.10.1)\n",
      "Requirement already satisfied: optimum<1.19,>=1.17 in c:\\users\\aluno\\desktop\\files_ml\\.conda\\lib\\site-packages (from optimum[onnxruntime]<1.19,>=1.17; extra == \"all\"->autogluon.timeseries[all]==1.1.0->autogluon) (1.18.1)\n",
      "Requirement already satisfied: psutil<6,>=5.7.3 in c:\\users\\aluno\\desktop\\files_ml\\.conda\\lib\\site-packages (from autogluon.common==1.1.0->autogluon.core==1.1.0->autogluon.core[all]==1.1.0->autogluon) (5.9.0)\n",
      "Requirement already satisfied: setuptools in c:\\users\\aluno\\desktop\\files_ml\\.conda\\lib\\site-packages (from autogluon.common==1.1.0->autogluon.core==1.1.0->autogluon.core[all]==1.1.0->autogluon) (60.2.0)\n",
      "Requirement already satisfied: packaging>=20.0 in c:\\users\\aluno\\desktop\\files_ml\\.conda\\lib\\site-packages (from accelerate<0.22.0,>=0.21.0->autogluon.multimodal==1.1.0->autogluon) (24.0)\n",
      "Requirement already satisfied: pyyaml in c:\\users\\aluno\\desktop\\files_ml\\.conda\\lib\\site-packages (from accelerate<0.22.0,>=0.21.0->autogluon.multimodal==1.1.0->autogluon) (6.0.1)\n",
      "Requirement already satisfied: botocore<1.35.0,>=1.34.90 in c:\\users\\aluno\\desktop\\files_ml\\.conda\\lib\\site-packages (from boto3<2,>=1.10->autogluon.core==1.1.0->autogluon.core[all]==1.1.0->autogluon) (1.34.90)\n",
      "Requirement already satisfied: jmespath<2.0.0,>=0.7.1 in c:\\users\\aluno\\desktop\\files_ml\\.conda\\lib\\site-packages (from boto3<2,>=1.10->autogluon.core==1.1.0->autogluon.core[all]==1.1.0->autogluon) (0.10.0)\n",
      "Requirement already satisfied: s3transfer<0.11.0,>=0.10.0 in c:\\users\\aluno\\desktop\\files_ml\\.conda\\lib\\site-packages (from boto3<2,>=1.10->autogluon.core==1.1.0->autogluon.core[all]==1.1.0->autogluon) (0.10.1)\n",
      "Requirement already satisfied: graphviz in c:\\users\\aluno\\desktop\\files_ml\\.conda\\lib\\site-packages (from catboost<1.3,>=1.1->autogluon.tabular[all]==1.1.0->autogluon) (0.20.3)\n",
      "Requirement already satisfied: plotly in c:\\users\\aluno\\desktop\\files_ml\\.conda\\lib\\site-packages (from catboost<1.3,>=1.1->autogluon.tabular[all]==1.1.0->autogluon) (5.21.0)\n",
      "Requirement already satisfied: six in c:\\users\\aluno\\desktop\\files_ml\\.conda\\lib\\site-packages (from catboost<1.3,>=1.1->autogluon.tabular[all]==1.1.0->autogluon) (1.16.0)\n",
      "Requirement already satisfied: datasets>=2.0.0 in c:\\users\\aluno\\desktop\\files_ml\\.conda\\lib\\site-packages (from evaluate<0.5.0,>=0.4.0->autogluon.multimodal==1.1.0->autogluon) (2.19.0)\n",
      "Requirement already satisfied: dill in c:\\users\\aluno\\desktop\\files_ml\\.conda\\lib\\site-packages (from evaluate<0.5.0,>=0.4.0->autogluon.multimodal==1.1.0->autogluon) (0.3.8)\n",
      "Requirement already satisfied: xxhash in c:\\users\\aluno\\desktop\\files_ml\\.conda\\lib\\site-packages (from evaluate<0.5.0,>=0.4.0->autogluon.multimodal==1.1.0->autogluon) (3.4.1)\n",
      "Requirement already satisfied: multiprocess in c:\\users\\aluno\\desktop\\files_ml\\.conda\\lib\\site-packages (from evaluate<0.5.0,>=0.4.0->autogluon.multimodal==1.1.0->autogluon) (0.70.16)\n",
      "Requirement already satisfied: fsspec>=2021.05.0 in c:\\users\\aluno\\desktop\\files_ml\\.conda\\lib\\site-packages (from fsspec[http]>=2021.05.0->evaluate<0.5.0,>=0.4.0->autogluon.multimodal==1.1.0->autogluon) (2024.3.1)\n",
      "Requirement already satisfied: huggingface-hub>=0.7.0 in c:\\users\\aluno\\desktop\\files_ml\\.conda\\lib\\site-packages (from evaluate<0.5.0,>=0.4.0->autogluon.multimodal==1.1.0->autogluon) (0.22.2)\n",
      "Requirement already satisfied: responses<0.19 in c:\\users\\aluno\\desktop\\files_ml\\.conda\\lib\\site-packages (from evaluate<0.5.0,>=0.4.0->autogluon.multimodal==1.1.0->autogluon) (0.18.0)\n",
      "Requirement already satisfied: pip in c:\\users\\aluno\\desktop\\files_ml\\.conda\\lib\\site-packages (from fastai<2.8,>=2.3.1->autogluon.tabular[all]==1.1.0->autogluon) (23.3.1)\n",
      "Requirement already satisfied: fastdownload<2,>=0.0.5 in c:\\users\\aluno\\desktop\\files_ml\\.conda\\lib\\site-packages (from fastai<2.8,>=2.3.1->autogluon.tabular[all]==1.1.0->autogluon) (0.0.7)\n",
      "Requirement already satisfied: fastcore<1.6,>=1.5.29 in c:\\users\\aluno\\desktop\\files_ml\\.conda\\lib\\site-packages (from fastai<2.8,>=2.3.1->autogluon.tabular[all]==1.1.0->autogluon) (1.5.29)\n",
      "Requirement already satisfied: fastprogress>=0.2.4 in c:\\users\\aluno\\desktop\\files_ml\\.conda\\lib\\site-packages (from fastai<2.8,>=2.3.1->autogluon.tabular[all]==1.1.0->autogluon) (1.0.3)\n",
      "Requirement already satisfied: spacy<4 in c:\\users\\aluno\\desktop\\files_ml\\.conda\\lib\\site-packages (from fastai<2.8,>=2.3.1->autogluon.tabular[all]==1.1.0->autogluon) (3.7.4)\n",
      "Requirement already satisfied: pydantic<3,>=1.7 in c:\\users\\aluno\\desktop\\files_ml\\.conda\\lib\\site-packages (from gluonts<0.14.4,>=0.14.0->autogluon.timeseries==1.1.0->autogluon.timeseries[all]==1.1.0->autogluon) (2.7.1)\n",
      "Requirement already satisfied: toolz~=0.10 in c:\\users\\aluno\\desktop\\files_ml\\.conda\\lib\\site-packages (from gluonts<0.14.4,>=0.14.0->autogluon.timeseries==1.1.0->autogluon.timeseries[all]==1.1.0->autogluon) (0.12.1)\n",
      "Requirement already satisfied: typing-extensions~=4.0 in c:\\users\\aluno\\desktop\\files_ml\\.conda\\lib\\site-packages (from gluonts<0.14.4,>=0.14.0->autogluon.timeseries==1.1.0->autogluon.timeseries[all]==1.1.0->autogluon) (4.11.0)\n",
      "Requirement already satisfied: future in c:\\users\\aluno\\desktop\\files_ml\\.conda\\lib\\site-packages (from hyperopt<0.2.8,>=0.2.7->autogluon.core[all]==1.1.0->autogluon) (1.0.0)\n",
      "Requirement already satisfied: cloudpickle in c:\\users\\aluno\\desktop\\files_ml\\.conda\\lib\\site-packages (from hyperopt<0.2.8,>=0.2.7->autogluon.core[all]==1.1.0->autogluon) (3.0.0)\n",
      "Requirement already satisfied: py4j in c:\\users\\aluno\\desktop\\files_ml\\.conda\\lib\\site-packages (from hyperopt<0.2.8,>=0.2.7->autogluon.core[all]==1.1.0->autogluon) (0.10.9.7)\n",
      "Requirement already satisfied: MarkupSafe>=2.0 in c:\\users\\aluno\\desktop\\files_ml\\.conda\\lib\\site-packages (from jinja2<3.2,>=3.0.3->autogluon.multimodal==1.1.0->autogluon) (2.1.5)\n",
      "Requirement already satisfied: attrs>=22.2.0 in c:\\users\\aluno\\desktop\\files_ml\\.conda\\lib\\site-packages (from jsonschema<4.22,>=4.18->autogluon.multimodal==1.1.0->autogluon) (23.2.0)\n",
      "Requirement already satisfied: jsonschema-specifications>=2023.03.6 in c:\\users\\aluno\\desktop\\files_ml\\.conda\\lib\\site-packages (from jsonschema<4.22,>=4.18->autogluon.multimodal==1.1.0->autogluon) (2023.12.1)\n",
      "Requirement already satisfied: referencing>=0.28.4 in c:\\users\\aluno\\desktop\\files_ml\\.conda\\lib\\site-packages (from jsonschema<4.22,>=4.18->autogluon.multimodal==1.1.0->autogluon) (0.34.0)\n",
      "Requirement already satisfied: rpds-py>=0.7.1 in c:\\users\\aluno\\desktop\\files_ml\\.conda\\lib\\site-packages (from jsonschema<4.22,>=4.18->autogluon.multimodal==1.1.0->autogluon) (0.18.0)\n",
      "Requirement already satisfied: lightning-utilities<2.0,>=0.8.0 in c:\\users\\aluno\\desktop\\files_ml\\.conda\\lib\\site-packages (from lightning<2.2,>=2.1->autogluon.multimodal==1.1.0->autogluon) (0.11.2)\n",
      "Requirement already satisfied: numba in c:\\users\\aluno\\desktop\\files_ml\\.conda\\lib\\site-packages (from mlforecast<0.10.1,>=0.10.0->autogluon.timeseries==1.1.0->autogluon.timeseries[all]==1.1.0->autogluon) (0.59.1)\n",
      "Requirement already satisfied: window-ops in c:\\users\\aluno\\desktop\\files_ml\\.conda\\lib\\site-packages (from mlforecast<0.10.1,>=0.10.0->autogluon.timeseries==1.1.0->autogluon.timeseries[all]==1.1.0->autogluon) (0.0.15)\n",
      "Requirement already satisfied: gdown>=4.0.0 in c:\\users\\aluno\\desktop\\files_ml\\.conda\\lib\\site-packages (from nlpaug<1.2.0,>=1.1.10->autogluon.multimodal==1.1.0->autogluon) (5.1.0)\n",
      "Requirement already satisfied: click in c:\\users\\aluno\\desktop\\files_ml\\.conda\\lib\\site-packages (from nltk<4.0.0,>=3.4.5->autogluon.multimodal==1.1.0->autogluon) (8.1.7)\n",
      "Requirement already satisfied: regex>=2021.8.3 in c:\\users\\aluno\\desktop\\files_ml\\.conda\\lib\\site-packages (from nltk<4.0.0,>=3.4.5->autogluon.multimodal==1.1.0->autogluon) (2024.4.16)\n",
      "Requirement already satisfied: antlr4-python3-runtime==4.9.* in c:\\users\\aluno\\desktop\\files_ml\\.conda\\lib\\site-packages (from omegaconf<2.3.0,>=2.1.1->autogluon.multimodal==1.1.0->autogluon) (4.9.3)\n",
      "Requirement already satisfied: colorama in c:\\users\\aluno\\desktop\\files_ml\\.conda\\lib\\site-packages (from openmim<0.4.0,>=0.3.7->autogluon.multimodal==1.1.0->autogluon) (0.4.6)\n",
      "Requirement already satisfied: model-index in c:\\users\\aluno\\desktop\\files_ml\\.conda\\lib\\site-packages (from openmim<0.4.0,>=0.3.7->autogluon.multimodal==1.1.0->autogluon) (0.1.11)\n",
      "Requirement already satisfied: opendatalab in c:\\users\\aluno\\desktop\\files_ml\\.conda\\lib\\site-packages (from openmim<0.4.0,>=0.3.7->autogluon.multimodal==1.1.0->autogluon) (0.0.10)\n",
      "Requirement already satisfied: rich in c:\\users\\aluno\\desktop\\files_ml\\.conda\\lib\\site-packages (from openmim<0.4.0,>=0.3.7->autogluon.multimodal==1.1.0->autogluon) (13.4.2)\n",
      "Requirement already satisfied: tabulate in c:\\users\\aluno\\desktop\\files_ml\\.conda\\lib\\site-packages (from openmim<0.4.0,>=0.3.7->autogluon.multimodal==1.1.0->autogluon) (0.9.0)\n",
      "Requirement already satisfied: coloredlogs in c:\\users\\aluno\\desktop\\files_ml\\.conda\\lib\\site-packages (from optimum<1.19,>=1.17->optimum[onnxruntime]<1.19,>=1.17; extra == \"all\"->autogluon.timeseries[all]==1.1.0->autogluon) (15.0.1)\n",
      "Requirement already satisfied: sympy in c:\\users\\aluno\\desktop\\files_ml\\.conda\\lib\\site-packages (from optimum<1.19,>=1.17->optimum[onnxruntime]<1.19,>=1.17; extra == \"all\"->autogluon.timeseries[all]==1.1.0->autogluon) (1.12)\n",
      "Requirement already satisfied: onnx in c:\\users\\aluno\\desktop\\files_ml\\.conda\\lib\\site-packages (from optimum[onnxruntime]<1.19,>=1.17; extra == \"all\"->autogluon.timeseries[all]==1.1.0->autogluon) (1.16.0)\n",
      "Requirement already satisfied: onnxruntime>=1.11.0 in c:\\users\\aluno\\desktop\\files_ml\\.conda\\lib\\site-packages (from optimum[onnxruntime]<1.19,>=1.17; extra == \"all\"->autogluon.timeseries[all]==1.1.0->autogluon) (1.17.3)\n",
      "Requirement already satisfied: protobuf>=3.20.1 in c:\\users\\aluno\\desktop\\files_ml\\.conda\\lib\\site-packages (from optimum[onnxruntime]<1.19,>=1.17; extra == \"all\"->autogluon.timeseries[all]==1.1.0->autogluon) (4.25.3)\n",
      "Requirement already satisfied: python-dateutil>=2.8.2 in c:\\users\\aluno\\desktop\\files_ml\\.conda\\lib\\site-packages (from pandas<2.3.0,>=2.0.0->autogluon.core==1.1.0->autogluon.core[all]==1.1.0->autogluon) (2.9.0)\n",
      "Requirement already satisfied: pytz>=2020.1 in c:\\users\\aluno\\desktop\\files_ml\\.conda\\lib\\site-packages (from pandas<2.3.0,>=2.0.0->autogluon.core==1.1.0->autogluon.core[all]==1.1.0->autogluon) (2023.4)\n",
      "Requirement already satisfied: tzdata>=2022.7 in c:\\users\\aluno\\desktop\\files_ml\\.conda\\lib\\site-packages (from pandas<2.3.0,>=2.0.0->autogluon.core==1.1.0->autogluon.core[all]==1.1.0->autogluon) (2024.1)\n",
      "Requirement already satisfied: filelock in c:\\users\\aluno\\desktop\\files_ml\\.conda\\lib\\site-packages (from ray<2.11,>=2.10.0->ray[default,tune]<2.11,>=2.10.0; extra == \"all\"->autogluon.core[all]==1.1.0->autogluon) (3.13.4)\n",
      "Requirement already satisfied: msgpack<2.0.0,>=1.0.0 in c:\\users\\aluno\\desktop\\files_ml\\.conda\\lib\\site-packages (from ray<2.11,>=2.10.0->ray[default,tune]<2.11,>=2.10.0; extra == \"all\"->autogluon.core[all]==1.1.0->autogluon) (1.0.8)\n",
      "Requirement already satisfied: aiosignal in c:\\users\\aluno\\desktop\\files_ml\\.conda\\lib\\site-packages (from ray<2.11,>=2.10.0->ray[default,tune]<2.11,>=2.10.0; extra == \"all\"->autogluon.core[all]==1.1.0->autogluon) (1.3.1)\n",
      "Requirement already satisfied: frozenlist in c:\\users\\aluno\\desktop\\files_ml\\.conda\\lib\\site-packages (from ray<2.11,>=2.10.0->ray[default,tune]<2.11,>=2.10.0; extra == \"all\"->autogluon.core[all]==1.1.0->autogluon) (1.4.1)\n",
      "Requirement already satisfied: aiohttp>=3.7 in c:\\users\\aluno\\desktop\\files_ml\\.conda\\lib\\site-packages (from ray[default,tune]<2.11,>=2.10.0; extra == \"all\"->autogluon.core[all]==1.1.0->autogluon) (3.9.5)\n",
      "Requirement already satisfied: aiohttp-cors in c:\\users\\aluno\\desktop\\files_ml\\.conda\\lib\\site-packages (from ray[default,tune]<2.11,>=2.10.0; extra == \"all\"->autogluon.core[all]==1.1.0->autogluon) (0.7.0)\n",
      "Requirement already satisfied: colorful in c:\\users\\aluno\\desktop\\files_ml\\.conda\\lib\\site-packages (from ray[default,tune]<2.11,>=2.10.0; extra == \"all\"->autogluon.core[all]==1.1.0->autogluon) (0.5.6)\n",
      "Requirement already satisfied: py-spy>=0.2.0 in c:\\users\\aluno\\desktop\\files_ml\\.conda\\lib\\site-packages (from ray[default,tune]<2.11,>=2.10.0; extra == \"all\"->autogluon.core[all]==1.1.0->autogluon) (0.3.14)\n",
      "Requirement already satisfied: opencensus in c:\\users\\aluno\\desktop\\files_ml\\.conda\\lib\\site-packages (from ray[default,tune]<2.11,>=2.10.0; extra == \"all\"->autogluon.core[all]==1.1.0->autogluon) (0.11.4)\n",
      "Requirement already satisfied: prometheus-client>=0.7.1 in c:\\users\\aluno\\desktop\\files_ml\\.conda\\lib\\site-packages (from ray[default,tune]<2.11,>=2.10.0; extra == \"all\"->autogluon.core[all]==1.1.0->autogluon) (0.20.0)\n",
      "Requirement already satisfied: smart-open in c:\\users\\aluno\\desktop\\files_ml\\.conda\\lib\\site-packages (from ray[default,tune]<2.11,>=2.10.0; extra == \"all\"->autogluon.core[all]==1.1.0->autogluon) (6.4.0)\n",
      "Requirement already satisfied: virtualenv!=20.21.1,>=20.0.24 in c:\\users\\aluno\\desktop\\files_ml\\.conda\\lib\\site-packages (from ray[default,tune]<2.11,>=2.10.0; extra == \"all\"->autogluon.core[all]==1.1.0->autogluon) (20.26.0)\n",
      "Requirement already satisfied: grpcio>=1.42.0 in c:\\users\\aluno\\desktop\\files_ml\\.conda\\lib\\site-packages (from ray[default,tune]<2.11,>=2.10.0; extra == \"all\"->autogluon.core[all]==1.1.0->autogluon) (1.62.2)\n",
      "Requirement already satisfied: tensorboardX>=1.9 in c:\\users\\aluno\\desktop\\files_ml\\.conda\\lib\\site-packages (from ray[default,tune]<2.11,>=2.10.0; extra == \"all\"->autogluon.core[all]==1.1.0->autogluon) (2.6.2.2)\n",
      "Requirement already satisfied: pyarrow>=6.0.1 in c:\\users\\aluno\\desktop\\files_ml\\.conda\\lib\\site-packages (from ray[default,tune]<2.11,>=2.10.0; extra == \"all\"->autogluon.core[all]==1.1.0->autogluon) (16.0.0)\n",
      "Requirement already satisfied: charset-normalizer<4,>=2 in c:\\users\\aluno\\desktop\\files_ml\\.conda\\lib\\site-packages (from requests->autogluon.core==1.1.0->autogluon.core[all]==1.1.0->autogluon) (3.3.2)\n",
      "Requirement already satisfied: idna<4,>=2.5 in c:\\users\\aluno\\desktop\\files_ml\\.conda\\lib\\site-packages (from requests->autogluon.core==1.1.0->autogluon.core[all]==1.1.0->autogluon) (3.7)\n",
      "Requirement already satisfied: urllib3<1.27,>=1.21.1 in c:\\users\\aluno\\desktop\\files_ml\\.conda\\lib\\site-packages (from requests->autogluon.core==1.1.0->autogluon.core[all]==1.1.0->autogluon) (1.26.18)\n",
      "Requirement already satisfied: certifi>=2017.4.17 in c:\\users\\aluno\\desktop\\files_ml\\.conda\\lib\\site-packages (from requests->autogluon.core==1.1.0->autogluon.core[all]==1.1.0->autogluon) (2024.2.2)\n",
      "Requirement already satisfied: imageio>=2.4.1 in c:\\users\\aluno\\desktop\\files_ml\\.conda\\lib\\site-packages (from scikit-image<0.21.0,>=0.19.1->autogluon.multimodal==1.1.0->autogluon) (2.34.1)\n",
      "Requirement already satisfied: tifffile>=2019.7.26 in c:\\users\\aluno\\desktop\\files_ml\\.conda\\lib\\site-packages (from scikit-image<0.21.0,>=0.19.1->autogluon.multimodal==1.1.0->autogluon) (2024.4.18)\n",
      "Requirement already satisfied: PyWavelets>=1.1.1 in c:\\users\\aluno\\desktop\\files_ml\\.conda\\lib\\site-packages (from scikit-image<0.21.0,>=0.19.1->autogluon.multimodal==1.1.0->autogluon) (1.6.0)\n",
      "Requirement already satisfied: lazy_loader>=0.1 in c:\\users\\aluno\\desktop\\files_ml\\.conda\\lib\\site-packages (from scikit-image<0.21.0,>=0.19.1->autogluon.multimodal==1.1.0->autogluon) (0.4)\n",
      "Requirement already satisfied: threadpoolctl>=2.0.0 in c:\\users\\aluno\\desktop\\files_ml\\.conda\\lib\\site-packages (from scikit-learn<1.4.1,>=1.3.0->autogluon.core==1.1.0->autogluon.core[all]==1.1.0->autogluon) (3.4.0)\n",
      "Requirement already satisfied: statsmodels>=0.13.2 in c:\\users\\aluno\\desktop\\files_ml\\.conda\\lib\\site-packages (from statsforecast<1.5,>=1.4.0->autogluon.timeseries==1.1.0->autogluon.timeseries[all]==1.1.0->autogluon) (0.14.2)\n",
      "Requirement already satisfied: absl-py>=0.4 in c:\\users\\aluno\\desktop\\files_ml\\.conda\\lib\\site-packages (from tensorboard<3,>=2.9->autogluon.multimodal==1.1.0->autogluon) (2.1.0)\n",
      "Requirement already satisfied: markdown>=2.6.8 in c:\\users\\aluno\\desktop\\files_ml\\.conda\\lib\\site-packages (from tensorboard<3,>=2.9->autogluon.multimodal==1.1.0->autogluon) (3.6)\n",
      "Requirement already satisfied: tensorboard-data-server<0.8.0,>=0.7.0 in c:\\users\\aluno\\desktop\\files_ml\\.conda\\lib\\site-packages (from tensorboard<3,>=2.9->autogluon.multimodal==1.1.0->autogluon) (0.7.2)\n",
      "Requirement already satisfied: werkzeug>=1.0.1 in c:\\users\\aluno\\desktop\\files_ml\\.conda\\lib\\site-packages (from tensorboard<3,>=2.9->autogluon.multimodal==1.1.0->autogluon) (3.0.2)\n",
      "Requirement already satisfied: safetensors in c:\\users\\aluno\\desktop\\files_ml\\.conda\\lib\\site-packages (from timm<0.10.0,>=0.9.5->autogluon.multimodal==1.1.0->autogluon) (0.4.3)\n",
      "Requirement already satisfied: tokenizers<0.19,>=0.14 in c:\\users\\aluno\\desktop\\files_ml\\.conda\\lib\\site-packages (from transformers<4.39.0,>=4.38.0->transformers[sentencepiece]<4.39.0,>=4.38.0->autogluon.multimodal==1.1.0->autogluon) (0.15.2)\n",
      "Requirement already satisfied: sentencepiece!=0.1.92,>=0.1.91 in c:\\users\\aluno\\desktop\\files_ml\\.conda\\lib\\site-packages (from transformers[sentencepiece]<4.39.0,>=4.38.0->autogluon.multimodal==1.1.0->autogluon) (0.2.0)\n",
      "Requirement already satisfied: contourpy>=1.0.1 in c:\\users\\aluno\\desktop\\files_ml\\.conda\\lib\\site-packages (from matplotlib->autogluon.core==1.1.0->autogluon.core[all]==1.1.0->autogluon) (1.2.1)\n",
      "Requirement already satisfied: cycler>=0.10 in c:\\users\\aluno\\desktop\\files_ml\\.conda\\lib\\site-packages (from matplotlib->autogluon.core==1.1.0->autogluon.core[all]==1.1.0->autogluon) (0.12.1)\n",
      "Requirement already satisfied: fonttools>=4.22.0 in c:\\users\\aluno\\desktop\\files_ml\\.conda\\lib\\site-packages (from matplotlib->autogluon.core==1.1.0->autogluon.core[all]==1.1.0->autogluon) (4.51.0)\n",
      "Requirement already satisfied: kiwisolver>=1.3.1 in c:\\users\\aluno\\desktop\\files_ml\\.conda\\lib\\site-packages (from matplotlib->autogluon.core==1.1.0->autogluon.core[all]==1.1.0->autogluon) (1.4.5)\n",
      "Requirement already satisfied: pyparsing>=2.3.1 in c:\\users\\aluno\\desktop\\files_ml\\.conda\\lib\\site-packages (from matplotlib->autogluon.core==1.1.0->autogluon.core[all]==1.1.0->autogluon) (3.1.2)\n",
      "Requirement already satisfied: multidict<7.0,>=4.5 in c:\\users\\aluno\\desktop\\files_ml\\.conda\\lib\\site-packages (from aiohttp>=3.7->ray[default,tune]<2.11,>=2.10.0; extra == \"all\"->autogluon.core[all]==1.1.0->autogluon) (6.0.5)\n",
      "Requirement already satisfied: yarl<2.0,>=1.0 in c:\\users\\aluno\\desktop\\files_ml\\.conda\\lib\\site-packages (from aiohttp>=3.7->ray[default,tune]<2.11,>=2.10.0; extra == \"all\"->autogluon.core[all]==1.1.0->autogluon) (1.9.4)\n",
      "Requirement already satisfied: pyarrow-hotfix in c:\\users\\aluno\\desktop\\files_ml\\.conda\\lib\\site-packages (from datasets>=2.0.0->evaluate<0.5.0,>=0.4.0->autogluon.multimodal==1.1.0->autogluon) (0.6)\n",
      "Requirement already satisfied: beautifulsoup4 in c:\\users\\aluno\\desktop\\files_ml\\.conda\\lib\\site-packages (from gdown>=4.0.0->nlpaug<1.2.0,>=1.1.10->autogluon.multimodal==1.1.0->autogluon) (4.12.3)\n",
      "Requirement already satisfied: llvmlite<0.43,>=0.42.0dev0 in c:\\users\\aluno\\desktop\\files_ml\\.conda\\lib\\site-packages (from numba->mlforecast<0.10.1,>=0.10.0->autogluon.timeseries==1.1.0->autogluon.timeseries[all]==1.1.0->autogluon) (0.42.0)\n",
      "Requirement already satisfied: flatbuffers in c:\\users\\aluno\\desktop\\files_ml\\.conda\\lib\\site-packages (from onnxruntime>=1.11.0->optimum[onnxruntime]<1.19,>=1.17; extra == \"all\"->autogluon.timeseries[all]==1.1.0->autogluon) (24.3.25)\n",
      "Requirement already satisfied: annotated-types>=0.4.0 in c:\\users\\aluno\\desktop\\files_ml\\.conda\\lib\\site-packages (from pydantic<3,>=1.7->gluonts<0.14.4,>=0.14.0->autogluon.timeseries==1.1.0->autogluon.timeseries[all]==1.1.0->autogluon) (0.6.0)\n",
      "Requirement already satisfied: pydantic-core==2.18.2 in c:\\users\\aluno\\desktop\\files_ml\\.conda\\lib\\site-packages (from pydantic<3,>=1.7->gluonts<0.14.4,>=0.14.0->autogluon.timeseries==1.1.0->autogluon.timeseries[all]==1.1.0->autogluon) (2.18.2)\n",
      "Requirement already satisfied: spacy-legacy<3.1.0,>=3.0.11 in c:\\users\\aluno\\desktop\\files_ml\\.conda\\lib\\site-packages (from spacy<4->fastai<2.8,>=2.3.1->autogluon.tabular[all]==1.1.0->autogluon) (3.0.12)\n",
      "Requirement already satisfied: spacy-loggers<2.0.0,>=1.0.0 in c:\\users\\aluno\\desktop\\files_ml\\.conda\\lib\\site-packages (from spacy<4->fastai<2.8,>=2.3.1->autogluon.tabular[all]==1.1.0->autogluon) (1.0.5)\n",
      "Requirement already satisfied: murmurhash<1.1.0,>=0.28.0 in c:\\users\\aluno\\desktop\\files_ml\\.conda\\lib\\site-packages (from spacy<4->fastai<2.8,>=2.3.1->autogluon.tabular[all]==1.1.0->autogluon) (1.0.10)\n",
      "Requirement already satisfied: cymem<2.1.0,>=2.0.2 in c:\\users\\aluno\\desktop\\files_ml\\.conda\\lib\\site-packages (from spacy<4->fastai<2.8,>=2.3.1->autogluon.tabular[all]==1.1.0->autogluon) (2.0.8)\n",
      "Requirement already satisfied: preshed<3.1.0,>=3.0.2 in c:\\users\\aluno\\desktop\\files_ml\\.conda\\lib\\site-packages (from spacy<4->fastai<2.8,>=2.3.1->autogluon.tabular[all]==1.1.0->autogluon) (3.0.9)\n",
      "Requirement already satisfied: thinc<8.3.0,>=8.2.2 in c:\\users\\aluno\\desktop\\files_ml\\.conda\\lib\\site-packages (from spacy<4->fastai<2.8,>=2.3.1->autogluon.tabular[all]==1.1.0->autogluon) (8.2.3)\n",
      "Requirement already satisfied: wasabi<1.2.0,>=0.9.1 in c:\\users\\aluno\\desktop\\files_ml\\.conda\\lib\\site-packages (from spacy<4->fastai<2.8,>=2.3.1->autogluon.tabular[all]==1.1.0->autogluon) (1.1.2)\n",
      "Requirement already satisfied: srsly<3.0.0,>=2.4.3 in c:\\users\\aluno\\desktop\\files_ml\\.conda\\lib\\site-packages (from spacy<4->fastai<2.8,>=2.3.1->autogluon.tabular[all]==1.1.0->autogluon) (2.4.8)\n",
      "Requirement already satisfied: catalogue<2.1.0,>=2.0.6 in c:\\users\\aluno\\desktop\\files_ml\\.conda\\lib\\site-packages (from spacy<4->fastai<2.8,>=2.3.1->autogluon.tabular[all]==1.1.0->autogluon) (2.0.10)\n",
      "Requirement already satisfied: weasel<0.4.0,>=0.1.0 in c:\\users\\aluno\\desktop\\files_ml\\.conda\\lib\\site-packages (from spacy<4->fastai<2.8,>=2.3.1->autogluon.tabular[all]==1.1.0->autogluon) (0.3.4)\n",
      "Requirement already satisfied: typer<0.10.0,>=0.3.0 in c:\\users\\aluno\\desktop\\files_ml\\.conda\\lib\\site-packages (from spacy<4->fastai<2.8,>=2.3.1->autogluon.tabular[all]==1.1.0->autogluon) (0.9.4)\n",
      "Requirement already satisfied: langcodes<4.0.0,>=3.2.0 in c:\\users\\aluno\\desktop\\files_ml\\.conda\\lib\\site-packages (from spacy<4->fastai<2.8,>=2.3.1->autogluon.tabular[all]==1.1.0->autogluon) (3.3.0)\n",
      "Requirement already satisfied: patsy>=0.5.6 in c:\\users\\aluno\\desktop\\files_ml\\.conda\\lib\\site-packages (from statsmodels>=0.13.2->statsforecast<1.5,>=1.4.0->autogluon.timeseries==1.1.0->autogluon.timeseries[all]==1.1.0->autogluon) (0.5.6)\n",
      "Requirement already satisfied: distlib<1,>=0.3.7 in c:\\users\\aluno\\desktop\\files_ml\\.conda\\lib\\site-packages (from virtualenv!=20.21.1,>=20.0.24->ray[default,tune]<2.11,>=2.10.0; extra == \"all\"->autogluon.core[all]==1.1.0->autogluon) (0.3.8)\n",
      "Requirement already satisfied: platformdirs<5,>=3.9.1 in c:\\users\\aluno\\desktop\\files_ml\\.conda\\lib\\site-packages (from virtualenv!=20.21.1,>=20.0.24->ray[default,tune]<2.11,>=2.10.0; extra == \"all\"->autogluon.core[all]==1.1.0->autogluon) (4.2.0)\n",
      "Requirement already satisfied: humanfriendly>=9.1 in c:\\users\\aluno\\desktop\\files_ml\\.conda\\lib\\site-packages (from coloredlogs->optimum<1.19,>=1.17->optimum[onnxruntime]<1.19,>=1.17; extra == \"all\"->autogluon.timeseries[all]==1.1.0->autogluon) (10.0)\n",
      "Requirement already satisfied: ordered-set in c:\\users\\aluno\\desktop\\files_ml\\.conda\\lib\\site-packages (from model-index->openmim<0.4.0,>=0.3.7->autogluon.multimodal==1.1.0->autogluon) (4.1.0)\n",
      "Requirement already satisfied: opencensus-context>=0.1.3 in c:\\users\\aluno\\desktop\\files_ml\\.conda\\lib\\site-packages (from opencensus->ray[default,tune]<2.11,>=2.10.0; extra == \"all\"->autogluon.core[all]==1.1.0->autogluon) (0.1.3)\n",
      "Requirement already satisfied: google-api-core<3.0.0,>=1.0.0 in c:\\users\\aluno\\desktop\\files_ml\\.conda\\lib\\site-packages (from opencensus->ray[default,tune]<2.11,>=2.10.0; extra == \"all\"->autogluon.core[all]==1.1.0->autogluon) (2.18.0)\n",
      "Requirement already satisfied: pycryptodome in c:\\users\\aluno\\desktop\\files_ml\\.conda\\lib\\site-packages (from opendatalab->openmim<0.4.0,>=0.3.7->autogluon.multimodal==1.1.0->autogluon) (3.20.0)\n",
      "Requirement already satisfied: openxlab in c:\\users\\aluno\\desktop\\files_ml\\.conda\\lib\\site-packages (from opendatalab->openmim<0.4.0,>=0.3.7->autogluon.multimodal==1.1.0->autogluon) (0.0.38)\n",
      "Requirement already satisfied: pywin32 in c:\\users\\aluno\\desktop\\files_ml\\.conda\\lib\\site-packages (from opendatalab->openmim<0.4.0,>=0.3.7->autogluon.multimodal==1.1.0->autogluon) (305.1)\n",
      "Requirement already satisfied: tenacity>=6.2.0 in c:\\users\\aluno\\desktop\\files_ml\\.conda\\lib\\site-packages (from plotly->catboost<1.3,>=1.1->autogluon.tabular[all]==1.1.0->autogluon) (8.2.3)\n",
      "Requirement already satisfied: markdown-it-py>=2.2.0 in c:\\users\\aluno\\desktop\\files_ml\\.conda\\lib\\site-packages (from rich->openmim<0.4.0,>=0.3.7->autogluon.multimodal==1.1.0->autogluon) (3.0.0)\n",
      "Requirement already satisfied: pygments<3.0.0,>=2.13.0 in c:\\users\\aluno\\desktop\\files_ml\\.conda\\lib\\site-packages (from rich->openmim<0.4.0,>=0.3.7->autogluon.multimodal==1.1.0->autogluon) (2.17.2)\n",
      "Requirement already satisfied: mpmath>=0.19 in c:\\users\\aluno\\desktop\\files_ml\\.conda\\lib\\site-packages (from sympy->optimum<1.19,>=1.17->optimum[onnxruntime]<1.19,>=1.17; extra == \"all\"->autogluon.timeseries[all]==1.1.0->autogluon) (1.3.0)\n",
      "Requirement already satisfied: googleapis-common-protos<2.0.dev0,>=1.56.2 in c:\\users\\aluno\\desktop\\files_ml\\.conda\\lib\\site-packages (from google-api-core<3.0.0,>=1.0.0->opencensus->ray[default,tune]<2.11,>=2.10.0; extra == \"all\"->autogluon.core[all]==1.1.0->autogluon) (1.63.0)\n",
      "Requirement already satisfied: proto-plus<2.0.0dev,>=1.22.3 in c:\\users\\aluno\\desktop\\files_ml\\.conda\\lib\\site-packages (from google-api-core<3.0.0,>=1.0.0->opencensus->ray[default,tune]<2.11,>=2.10.0; extra == \"all\"->autogluon.core[all]==1.1.0->autogluon) (1.23.0)\n",
      "Requirement already satisfied: google-auth<3.0.dev0,>=2.14.1 in c:\\users\\aluno\\desktop\\files_ml\\.conda\\lib\\site-packages (from google-api-core<3.0.0,>=1.0.0->opencensus->ray[default,tune]<2.11,>=2.10.0; extra == \"all\"->autogluon.core[all]==1.1.0->autogluon) (2.29.0)\n",
      "Requirement already satisfied: pyreadline3 in c:\\users\\aluno\\desktop\\files_ml\\.conda\\lib\\site-packages (from humanfriendly>=9.1->coloredlogs->optimum<1.19,>=1.17->optimum[onnxruntime]<1.19,>=1.17; extra == \"all\"->autogluon.timeseries[all]==1.1.0->autogluon) (3.4.1)\n",
      "Requirement already satisfied: mdurl~=0.1 in c:\\users\\aluno\\desktop\\files_ml\\.conda\\lib\\site-packages (from markdown-it-py>=2.2.0->rich->openmim<0.4.0,>=0.3.7->autogluon.multimodal==1.1.0->autogluon) (0.1.2)\n",
      "Requirement already satisfied: blis<0.8.0,>=0.7.8 in c:\\users\\aluno\\desktop\\files_ml\\.conda\\lib\\site-packages (from thinc<8.3.0,>=8.2.2->spacy<4->fastai<2.8,>=2.3.1->autogluon.tabular[all]==1.1.0->autogluon) (0.7.11)\n",
      "Requirement already satisfied: confection<1.0.0,>=0.0.1 in c:\\users\\aluno\\desktop\\files_ml\\.conda\\lib\\site-packages (from thinc<8.3.0,>=8.2.2->spacy<4->fastai<2.8,>=2.3.1->autogluon.tabular[all]==1.1.0->autogluon) (0.1.4)\n",
      "Requirement already satisfied: cloudpathlib<0.17.0,>=0.7.0 in c:\\users\\aluno\\desktop\\files_ml\\.conda\\lib\\site-packages (from weasel<0.4.0,>=0.1.0->spacy<4->fastai<2.8,>=2.3.1->autogluon.tabular[all]==1.1.0->autogluon) (0.16.0)\n",
      "Requirement already satisfied: soupsieve>1.2 in c:\\users\\aluno\\desktop\\files_ml\\.conda\\lib\\site-packages (from beautifulsoup4->gdown>=4.0.0->nlpaug<1.2.0,>=1.1.10->autogluon.multimodal==1.1.0->autogluon) (2.5)\n",
      "Requirement already satisfied: oss2~=2.17.0 in c:\\users\\aluno\\desktop\\files_ml\\.conda\\lib\\site-packages (from openxlab->opendatalab->openmim<0.4.0,>=0.3.7->autogluon.multimodal==1.1.0->autogluon) (2.17.0)\n",
      "Requirement already satisfied: PySocks!=1.5.7,>=1.5.6 in c:\\users\\aluno\\desktop\\files_ml\\.conda\\lib\\site-packages (from requests[socks]->gdown>=4.0.0->nlpaug<1.2.0,>=1.1.10->autogluon.multimodal==1.1.0->autogluon) (1.7.1)\n",
      "Requirement already satisfied: cachetools<6.0,>=2.0.0 in c:\\users\\aluno\\desktop\\files_ml\\.conda\\lib\\site-packages (from google-auth<3.0.dev0,>=2.14.1->google-api-core<3.0.0,>=1.0.0->opencensus->ray[default,tune]<2.11,>=2.10.0; extra == \"all\"->autogluon.core[all]==1.1.0->autogluon) (5.3.3)\n",
      "Requirement already satisfied: pyasn1-modules>=0.2.1 in c:\\users\\aluno\\desktop\\files_ml\\.conda\\lib\\site-packages (from google-auth<3.0.dev0,>=2.14.1->google-api-core<3.0.0,>=1.0.0->opencensus->ray[default,tune]<2.11,>=2.10.0; extra == \"all\"->autogluon.core[all]==1.1.0->autogluon) (0.4.0)\n",
      "Requirement already satisfied: rsa<5,>=3.1.4 in c:\\users\\aluno\\desktop\\files_ml\\.conda\\lib\\site-packages (from google-auth<3.0.dev0,>=2.14.1->google-api-core<3.0.0,>=1.0.0->opencensus->ray[default,tune]<2.11,>=2.10.0; extra == \"all\"->autogluon.core[all]==1.1.0->autogluon) (4.9)\n",
      "Requirement already satisfied: crcmod>=1.7 in c:\\users\\aluno\\desktop\\files_ml\\.conda\\lib\\site-packages (from oss2~=2.17.0->openxlab->opendatalab->openmim<0.4.0,>=0.3.7->autogluon.multimodal==1.1.0->autogluon) (1.7)\n",
      "Requirement already satisfied: aliyun-python-sdk-kms>=2.4.1 in c:\\users\\aluno\\desktop\\files_ml\\.conda\\lib\\site-packages (from oss2~=2.17.0->openxlab->opendatalab->openmim<0.4.0,>=0.3.7->autogluon.multimodal==1.1.0->autogluon) (2.16.2)\n",
      "Requirement already satisfied: aliyun-python-sdk-core>=2.13.12 in c:\\users\\aluno\\desktop\\files_ml\\.conda\\lib\\site-packages (from oss2~=2.17.0->openxlab->opendatalab->openmim<0.4.0,>=0.3.7->autogluon.multimodal==1.1.0->autogluon) (2.15.1)\n",
      "Requirement already satisfied: cryptography>=2.6.0 in c:\\users\\aluno\\desktop\\files_ml\\.conda\\lib\\site-packages (from aliyun-python-sdk-core>=2.13.12->oss2~=2.17.0->openxlab->opendatalab->openmim<0.4.0,>=0.3.7->autogluon.multimodal==1.1.0->autogluon) (42.0.5)\n",
      "Requirement already satisfied: pyasn1<0.7.0,>=0.4.6 in c:\\users\\aluno\\desktop\\files_ml\\.conda\\lib\\site-packages (from pyasn1-modules>=0.2.1->google-auth<3.0.dev0,>=2.14.1->google-api-core<3.0.0,>=1.0.0->opencensus->ray[default,tune]<2.11,>=2.10.0; extra == \"all\"->autogluon.core[all]==1.1.0->autogluon) (0.6.0)\n",
      "Requirement already satisfied: cffi>=1.12 in c:\\users\\aluno\\desktop\\files_ml\\.conda\\lib\\site-packages (from cryptography>=2.6.0->aliyun-python-sdk-core>=2.13.12->oss2~=2.17.0->openxlab->opendatalab->openmim<0.4.0,>=0.3.7->autogluon.multimodal==1.1.0->autogluon) (1.16.0)\n",
      "Requirement already satisfied: pycparser in c:\\users\\aluno\\desktop\\files_ml\\.conda\\lib\\site-packages (from cffi>=1.12->cryptography>=2.6.0->aliyun-python-sdk-core>=2.13.12->oss2~=2.17.0->openxlab->opendatalab->openmim<0.4.0,>=0.3.7->autogluon.multimodal==1.1.0->autogluon) (2.22)\n",
      "Note: you may need to restart the kernel to use updated packages.\n",
      "Requirement already satisfied: ipykernel in c:\\users\\aluno\\desktop\\files_ml\\.conda\\lib\\site-packages (6.29.4)\n",
      "Requirement already satisfied: comm>=0.1.1 in c:\\users\\aluno\\desktop\\files_ml\\.conda\\lib\\site-packages (from ipykernel) (0.2.2)\n",
      "Requirement already satisfied: debugpy>=1.6.5 in c:\\users\\aluno\\desktop\\files_ml\\.conda\\lib\\site-packages (from ipykernel) (1.6.7)\n",
      "Requirement already satisfied: ipython>=7.23.1 in c:\\users\\aluno\\desktop\\files_ml\\.conda\\lib\\site-packages (from ipykernel) (8.22.2)\n",
      "Requirement already satisfied: jupyter-client>=6.1.12 in c:\\users\\aluno\\desktop\\files_ml\\.conda\\lib\\site-packages (from ipykernel) (8.6.1)\n",
      "Requirement already satisfied: jupyter-core!=5.0.*,>=4.12 in c:\\users\\aluno\\desktop\\files_ml\\.conda\\lib\\site-packages (from ipykernel) (5.7.2)\n",
      "Requirement already satisfied: matplotlib-inline>=0.1 in c:\\users\\aluno\\desktop\\files_ml\\.conda\\lib\\site-packages (from ipykernel) (0.1.7)\n",
      "Requirement already satisfied: nest-asyncio in c:\\users\\aluno\\desktop\\files_ml\\.conda\\lib\\site-packages (from ipykernel) (1.6.0)\n",
      "Requirement already satisfied: packaging in c:\\users\\aluno\\desktop\\files_ml\\.conda\\lib\\site-packages (from ipykernel) (24.0)\n",
      "Requirement already satisfied: psutil in c:\\users\\aluno\\desktop\\files_ml\\.conda\\lib\\site-packages (from ipykernel) (5.9.0)\n",
      "Requirement already satisfied: pyzmq>=24 in c:\\users\\aluno\\desktop\\files_ml\\.conda\\lib\\site-packages (from ipykernel) (25.1.2)\n",
      "Requirement already satisfied: tornado>=6.1 in c:\\users\\aluno\\desktop\\files_ml\\.conda\\lib\\site-packages (from ipykernel) (6.3.3)\n",
      "Requirement already satisfied: traitlets>=5.4.0 in c:\\users\\aluno\\desktop\\files_ml\\.conda\\lib\\site-packages (from ipykernel) (5.14.3)\n",
      "Requirement already satisfied: decorator in c:\\users\\aluno\\desktop\\files_ml\\.conda\\lib\\site-packages (from ipython>=7.23.1->ipykernel) (5.1.1)\n",
      "Requirement already satisfied: jedi>=0.16 in c:\\users\\aluno\\desktop\\files_ml\\.conda\\lib\\site-packages (from ipython>=7.23.1->ipykernel) (0.19.1)\n",
      "Requirement already satisfied: prompt-toolkit<3.1.0,>=3.0.41 in c:\\users\\aluno\\desktop\\files_ml\\.conda\\lib\\site-packages (from ipython>=7.23.1->ipykernel) (3.0.42)\n",
      "Requirement already satisfied: pygments>=2.4.0 in c:\\users\\aluno\\desktop\\files_ml\\.conda\\lib\\site-packages (from ipython>=7.23.1->ipykernel) (2.17.2)\n",
      "Requirement already satisfied: stack-data in c:\\users\\aluno\\desktop\\files_ml\\.conda\\lib\\site-packages (from ipython>=7.23.1->ipykernel) (0.6.2)\n",
      "Requirement already satisfied: colorama in c:\\users\\aluno\\desktop\\files_ml\\.conda\\lib\\site-packages (from ipython>=7.23.1->ipykernel) (0.4.6)\n",
      "Requirement already satisfied: python-dateutil>=2.8.2 in c:\\users\\aluno\\desktop\\files_ml\\.conda\\lib\\site-packages (from jupyter-client>=6.1.12->ipykernel) (2.9.0)\n",
      "Requirement already satisfied: platformdirs>=2.5 in c:\\users\\aluno\\desktop\\files_ml\\.conda\\lib\\site-packages (from jupyter-core!=5.0.*,>=4.12->ipykernel) (4.2.0)\n",
      "Requirement already satisfied: pywin32>=300 in c:\\users\\aluno\\desktop\\files_ml\\.conda\\lib\\site-packages (from jupyter-core!=5.0.*,>=4.12->ipykernel) (305.1)\n",
      "Requirement already satisfied: parso<0.9.0,>=0.8.3 in c:\\users\\aluno\\desktop\\files_ml\\.conda\\lib\\site-packages (from jedi>=0.16->ipython>=7.23.1->ipykernel) (0.8.4)\n",
      "Requirement already satisfied: wcwidth in c:\\users\\aluno\\desktop\\files_ml\\.conda\\lib\\site-packages (from prompt-toolkit<3.1.0,>=3.0.41->ipython>=7.23.1->ipykernel) (0.2.13)\n",
      "Requirement already satisfied: six>=1.5 in c:\\users\\aluno\\desktop\\files_ml\\.conda\\lib\\site-packages (from python-dateutil>=2.8.2->jupyter-client>=6.1.12->ipykernel) (1.16.0)\n",
      "Requirement already satisfied: executing>=1.2.0 in c:\\users\\aluno\\desktop\\files_ml\\.conda\\lib\\site-packages (from stack-data->ipython>=7.23.1->ipykernel) (2.0.1)\n",
      "Requirement already satisfied: asttokens>=2.1.0 in c:\\users\\aluno\\desktop\\files_ml\\.conda\\lib\\site-packages (from stack-data->ipython>=7.23.1->ipykernel) (2.4.1)\n",
      "Requirement already satisfied: pure-eval in c:\\users\\aluno\\desktop\\files_ml\\.conda\\lib\\site-packages (from stack-data->ipython>=7.23.1->ipykernel) (0.2.2)\n",
      "Note: you may need to restart the kernel to use updated packages.\n",
      "Requirement already satisfied: pandas in c:\\users\\aluno\\desktop\\files_ml\\.conda\\lib\\site-packages (2.2.2)\n",
      "Requirement already satisfied: numpy>=1.23.2 in c:\\users\\aluno\\desktop\\files_ml\\.conda\\lib\\site-packages (from pandas) (1.26.4)\n",
      "Requirement already satisfied: python-dateutil>=2.8.2 in c:\\users\\aluno\\desktop\\files_ml\\.conda\\lib\\site-packages (from pandas) (2.9.0)\n",
      "Requirement already satisfied: pytz>=2020.1 in c:\\users\\aluno\\desktop\\files_ml\\.conda\\lib\\site-packages (from pandas) (2023.4)\n",
      "Requirement already satisfied: tzdata>=2022.7 in c:\\users\\aluno\\desktop\\files_ml\\.conda\\lib\\site-packages (from pandas) (2024.1)\n",
      "Requirement already satisfied: six>=1.5 in c:\\users\\aluno\\desktop\\files_ml\\.conda\\lib\\site-packages (from python-dateutil>=2.8.2->pandas) (1.16.0)\n",
      "Note: you may need to restart the kernel to use updated packages.\n",
      "Requirement already satisfied: scikit-learn in c:\\users\\aluno\\desktop\\files_ml\\.conda\\lib\\site-packages (1.4.0)\n",
      "Requirement already satisfied: numpy<2.0,>=1.19.5 in c:\\users\\aluno\\desktop\\files_ml\\.conda\\lib\\site-packages (from scikit-learn) (1.26.4)\n",
      "Requirement already satisfied: scipy>=1.6.0 in c:\\users\\aluno\\desktop\\files_ml\\.conda\\lib\\site-packages (from scikit-learn) (1.12.0)\n",
      "Requirement already satisfied: joblib>=1.2.0 in c:\\users\\aluno\\desktop\\files_ml\\.conda\\lib\\site-packages (from scikit-learn) (1.4.0)\n",
      "Requirement already satisfied: threadpoolctl>=2.0.0 in c:\\users\\aluno\\desktop\\files_ml\\.conda\\lib\\site-packages (from scikit-learn) (3.4.0)\n",
      "Note: you may need to restart the kernel to use updated packages.\n",
      "Requirement already satisfied: tqdm in c:\\users\\aluno\\desktop\\files_ml\\.conda\\lib\\site-packages (4.65.2)\n",
      "Requirement already satisfied: colorama in c:\\users\\aluno\\desktop\\files_ml\\.conda\\lib\\site-packages (from tqdm) (0.4.6)\n",
      "Note: you may need to restart the kernel to use updated packages.\n",
      "Requirement already satisfied: numpy in c:\\users\\aluno\\desktop\\files_ml\\.conda\\lib\\site-packages (1.26.4)Note: you may need to restart the kernel to use updated packages.\n",
      "\n",
      "Requirement already satisfied: matplotlib in c:\\users\\aluno\\desktop\\files_ml\\.conda\\lib\\site-packages (3.8.4)\n",
      "Requirement already satisfied: contourpy>=1.0.1 in c:\\users\\aluno\\desktop\\files_ml\\.conda\\lib\\site-packages (from matplotlib) (1.2.1)\n",
      "Requirement already satisfied: cycler>=0.10 in c:\\users\\aluno\\desktop\\files_ml\\.conda\\lib\\site-packages (from matplotlib) (0.12.1)\n",
      "Requirement already satisfied: fonttools>=4.22.0 in c:\\users\\aluno\\desktop\\files_ml\\.conda\\lib\\site-packages (from matplotlib) (4.51.0)\n",
      "Requirement already satisfied: kiwisolver>=1.3.1 in c:\\users\\aluno\\desktop\\files_ml\\.conda\\lib\\site-packages (from matplotlib) (1.4.5)\n",
      "Requirement already satisfied: numpy>=1.21 in c:\\users\\aluno\\desktop\\files_ml\\.conda\\lib\\site-packages (from matplotlib) (1.26.4)\n",
      "Requirement already satisfied: packaging>=20.0 in c:\\users\\aluno\\desktop\\files_ml\\.conda\\lib\\site-packages (from matplotlib) (24.0)\n",
      "Requirement already satisfied: pillow>=8 in c:\\users\\aluno\\desktop\\files_ml\\.conda\\lib\\site-packages (from matplotlib) (10.3.0)\n",
      "Requirement already satisfied: pyparsing>=2.3.1 in c:\\users\\aluno\\desktop\\files_ml\\.conda\\lib\\site-packages (from matplotlib) (3.1.2)\n",
      "Requirement already satisfied: python-dateutil>=2.7 in c:\\users\\aluno\\desktop\\files_ml\\.conda\\lib\\site-packages (from matplotlib) (2.9.0)\n",
      "Requirement already satisfied: six>=1.5 in c:\\users\\aluno\\desktop\\files_ml\\.conda\\lib\\site-packages (from python-dateutil>=2.7->matplotlib) (1.16.0)\n",
      "Note: you may need to restart the kernel to use updated packages.\n",
      "Collecting seaborn\n",
      "  Downloading seaborn-0.13.2-py3-none-any.whl.metadata (5.4 kB)\n",
      "Requirement already satisfied: numpy!=1.24.0,>=1.20 in c:\\users\\aluno\\desktop\\files_ml\\.conda\\lib\\site-packages (from seaborn) (1.26.4)\n",
      "Requirement already satisfied: pandas>=1.2 in c:\\users\\aluno\\desktop\\files_ml\\.conda\\lib\\site-packages (from seaborn) (2.2.2)\n",
      "Requirement already satisfied: matplotlib!=3.6.1,>=3.4 in c:\\users\\aluno\\desktop\\files_ml\\.conda\\lib\\site-packages (from seaborn) (3.8.4)\n",
      "Requirement already satisfied: contourpy>=1.0.1 in c:\\users\\aluno\\desktop\\files_ml\\.conda\\lib\\site-packages (from matplotlib!=3.6.1,>=3.4->seaborn) (1.2.1)\n",
      "Requirement already satisfied: cycler>=0.10 in c:\\users\\aluno\\desktop\\files_ml\\.conda\\lib\\site-packages (from matplotlib!=3.6.1,>=3.4->seaborn) (0.12.1)\n",
      "Requirement already satisfied: fonttools>=4.22.0 in c:\\users\\aluno\\desktop\\files_ml\\.conda\\lib\\site-packages (from matplotlib!=3.6.1,>=3.4->seaborn) (4.51.0)\n",
      "Requirement already satisfied: kiwisolver>=1.3.1 in c:\\users\\aluno\\desktop\\files_ml\\.conda\\lib\\site-packages (from matplotlib!=3.6.1,>=3.4->seaborn) (1.4.5)\n",
      "Requirement already satisfied: packaging>=20.0 in c:\\users\\aluno\\desktop\\files_ml\\.conda\\lib\\site-packages (from matplotlib!=3.6.1,>=3.4->seaborn) (24.0)\n",
      "Requirement already satisfied: pillow>=8 in c:\\users\\aluno\\desktop\\files_ml\\.conda\\lib\\site-packages (from matplotlib!=3.6.1,>=3.4->seaborn) (10.3.0)\n",
      "Requirement already satisfied: pyparsing>=2.3.1 in c:\\users\\aluno\\desktop\\files_ml\\.conda\\lib\\site-packages (from matplotlib!=3.6.1,>=3.4->seaborn) (3.1.2)\n",
      "Requirement already satisfied: python-dateutil>=2.7 in c:\\users\\aluno\\desktop\\files_ml\\.conda\\lib\\site-packages (from matplotlib!=3.6.1,>=3.4->seaborn) (2.9.0)\n",
      "Requirement already satisfied: pytz>=2020.1 in c:\\users\\aluno\\desktop\\files_ml\\.conda\\lib\\site-packages (from pandas>=1.2->seaborn) (2023.4)\n",
      "Requirement already satisfied: tzdata>=2022.7 in c:\\users\\aluno\\desktop\\files_ml\\.conda\\lib\\site-packages (from pandas>=1.2->seaborn) (2024.1)\n",
      "Requirement already satisfied: six>=1.5 in c:\\users\\aluno\\desktop\\files_ml\\.conda\\lib\\site-packages (from python-dateutil>=2.7->matplotlib!=3.6.1,>=3.4->seaborn) (1.16.0)\n",
      "Downloading seaborn-0.13.2-py3-none-any.whl (294 kB)\n",
      "   ---------------------------------------- 0.0/294.9 kB ? eta -:--:--\n",
      "   - -------------------------------------- 10.2/294.9 kB ? eta -:--:--\n",
      "   ------------ --------------------------- 92.2/294.9 kB 1.3 MB/s eta 0:00:01\n",
      "   -------------------------------------- - 286.7/294.9 kB 2.9 MB/s eta 0:00:01\n",
      "   ---------------------------------------- 294.9/294.9 kB 2.6 MB/s eta 0:00:00\n",
      "Installing collected packages: seaborn\n",
      "Successfully installed seaborn-0.13.2\n",
      "Note: you may need to restart the kernel to use updated packages.\n"
     ]
    }
   ],
   "source": [
    "%pip install autogluon\n",
    "%pip install --upgrade ipykernel\n",
    "%pip install pandas\n",
    "%pip install scikit-learn\n",
    "%pip install tqdm\n",
    "%pip install numpy\n",
    "%pip install matplotlib\n",
    "%pip install seaborn\n",
    "%pip install ipywidgets\n",
    "%pip install bokeh"
   ]
  },
  {
   "cell_type": "markdown",
   "metadata": {},
   "source": [
    "Importando dependencias"
   ]
  },
  {
   "cell_type": "code",
   "execution_count": 9,
   "metadata": {},
   "outputs": [],
   "source": [
    "import pandas as pd\n",
    "import numpy as np\n",
    "import time\n",
    "from tqdm import tqdm\n",
    "\n",
    "from sklearn.metrics import f1_score, roc_auc_score, log_loss\n",
    "from sklearn.model_selection import StratifiedKFold, RepeatedStratifiedKFold, KFold\n",
    "from sklearn.calibration import CalibratedClassifierCV\n",
    "\n",
    "from autogluon.tabular import TabularPredictor\n",
    "\n",
    "%matplotlib inline\n",
    "import matplotlib.pyplot as plt\n",
    "import seaborn as sns"
   ]
  },
  {
   "cell_type": "markdown",
   "metadata": {},
   "source": [
    "Load CSVs"
   ]
  },
  {
   "cell_type": "code",
   "execution_count": 14,
   "metadata": {},
   "outputs": [],
   "source": [
    "train = pd.read_csv('input/train.csv', index_col='id').reset_index(drop=True)\n",
    "test = pd.read_csv('input/test.csv', index_col='id').reset_index(drop=True)\n",
    "sample_submission = pd.read_csv('input/submission_sample.csv')\n",
    "meta = pd.read_csv('input/metadata.csv')\n",
    "\n",
    "cat_nom = [x for x in meta.iloc[1:-1, :].loc[(meta.iloc[:,1]==\"Qualitativo nominal\")].iloc[:,0]]\n",
    "cat_ord = [x for x in meta.iloc[1:-1, :].loc[(meta.iloc[:,1]==\"Qualitativo ordinal\")].iloc[:,0]]\n",
    "num_dis = [x for x in meta.iloc[1:-1, :].loc[(meta.iloc[:,1]==\"Quantitativo discreto\")].iloc[:,0]]\n",
    "num_con = [x for x in meta.iloc[1:-1, :].loc[(meta.iloc[:,1]==\"Quantitativo continua\")].iloc[:,0]]"
   ]
  },
  {
   "cell_type": "code",
   "execution_count": 18,
   "metadata": {},
   "outputs": [
    {
     "name": "stdout",
     "output_type": "stream",
     "text": [
      "['var55', 'var56', 'var57', 'var58', 'var59', 'var60', 'var61', 'var62', 'var63', 'var64', 'var65', 'var66']\n"
     ]
    }
   ],
   "source": [
    "print(num_con)"
   ]
  },
  {
   "cell_type": "markdown",
   "metadata": {},
   "source": [
    "Iniciar preparação"
   ]
  },
  {
   "cell_type": "code",
   "execution_count": 19,
   "metadata": {},
   "outputs": [],
   "source": [
    "K=10\n",
    "SEED=25\n",
    "kf = KFold(n_splits=K, random_state=SEED, shuffle=True)"
   ]
  },
  {
   "cell_type": "code",
   "execution_count": 20,
   "metadata": {},
   "outputs": [
    {
     "name": "stdout",
     "output_type": "stream",
     "text": [
      "KFold(n_splits=10, random_state=25, shuffle=True)\n"
     ]
    }
   ],
   "source": [
    "print(kf)"
   ]
  },
  {
   "cell_type": "markdown",
   "metadata": {},
   "source": [
    "Get threshold"
   ]
  },
  {
   "cell_type": "code",
   "execution_count": 21,
   "metadata": {},
   "outputs": [],
   "source": [
    "def get_threshold(y_true, y_pred):\n",
    "    # Moving threshold\n",
    "    thresholds = np.arange(0.0, 1.0, 0.01)\n",
    "    f1_scores = []\n",
    "    for thresh in thresholds:\n",
    "        f1_scores.append(\n",
    "            f1_score(y_true, [1 if m>thresh else 0 for m in y_pred]))\n",
    "    f1s = np.array(f1_scores)\n",
    "    return thresholds[f1s.argmax()]\n",
    "\n",
    "\n",
    "def custom_f1(y_true, y_pred):\n",
    "\n",
    "    max_f1_threshold =  get_threshold(y_true, y_pred)\n",
    "\n",
    "    y_pred = np.where(y_pred>max_f1_threshold, 1, 0)\n",
    "    f1_after = f1_score(y_true, y_pred)\n",
    "\n",
    "    return f1_after"
   ]
  },
  {
   "cell_type": "markdown",
   "metadata": {},
   "source": [
    "init predictor"
   ]
  },
  {
   "cell_type": "code",
   "execution_count": 45,
   "metadata": {},
   "outputs": [
    {
     "name": "stderr",
     "output_type": "stream",
     "text": [
      "Warning: path already exists! This predictor may overwrite an existing predictor! path=\"./AutoGlon/\"\n"
     ]
    },
    {
     "ename": "AttributeError",
     "evalue": "'TabularPredictor' object has no attribute 'get_hyperparameter_config'",
     "output_type": "error",
     "traceback": [
      "\u001b[1;31m---------------------------------------------------------------------------\u001b[0m",
      "\u001b[1;31mAttributeError\u001b[0m                            Traceback (most recent call last)",
      "Cell \u001b[1;32mIn[45], line 6\u001b[0m\n\u001b[0;32m      1\u001b[0m predictor \u001b[38;5;241m=\u001b[39m TabularPredictor(label\u001b[38;5;241m=\u001b[39m\u001b[38;5;124m\"\u001b[39m\u001b[38;5;124my\u001b[39m\u001b[38;5;124m\"\u001b[39m,\n\u001b[0;32m      2\u001b[0m                              problem_type\u001b[38;5;241m=\u001b[39m\u001b[38;5;124m'\u001b[39m\u001b[38;5;124mbinary\u001b[39m\u001b[38;5;124m'\u001b[39m,\n\u001b[0;32m      3\u001b[0m                              eval_metric\u001b[38;5;241m=\u001b[39m\u001b[38;5;124m\"\u001b[39m\u001b[38;5;124mlog_loss\u001b[39m\u001b[38;5;124m\"\u001b[39m,\n\u001b[0;32m      4\u001b[0m                              path\u001b[38;5;241m=\u001b[39m\u001b[38;5;124m'\u001b[39m\u001b[38;5;124m./AutoGlon/\u001b[39m\u001b[38;5;124m'\u001b[39m,\n\u001b[0;32m      5\u001b[0m                              verbosity\u001b[38;5;241m=\u001b[39m\u001b[38;5;241m1\u001b[39m)\n\u001b[1;32m----> 6\u001b[0m hyperparameters \u001b[38;5;241m=\u001b[39m \u001b[43mpredictor\u001b[49m\u001b[38;5;241;43m.\u001b[39;49m\u001b[43mget_hyperparameter_config\u001b[49m(\u001b[38;5;124m'\u001b[39m\u001b[38;5;124mdefault\u001b[39m\u001b[38;5;124m'\u001b[39m)\n\u001b[0;32m      7\u001b[0m \u001b[38;5;66;03m#predictor.fit(train, presets='medium_quality')\u001b[39;00m\n\u001b[0;32m      8\u001b[0m \n\u001b[0;32m      9\u001b[0m \u001b[38;5;66;03m#results = predictor.fit_summary()\u001b[39;00m\n",
      "\u001b[1;31mAttributeError\u001b[0m: 'TabularPredictor' object has no attribute 'get_hyperparameter_config'"
     ]
    },
    {
     "name": "stderr",
     "output_type": "stream",
     "text": [
      "2024-04-23 22:08:16,960\tERROR worker.py:406 -- Unhandled error (suppress with 'RAY_IGNORE_UNHANDLED_ERRORS=1'): \u001b[36mray::_sub_fit()\u001b[39m (pid=14248, ip=127.0.0.1)\n",
      "          ^^^^^^^^^^^^^^^^^^^^^^^^^^^^^^^^^^^^^^^^^^^^^^^^^^^^^^^^^^^^^^^^^^^^^^^^^^^^^^^^^^^\n",
      "  File \"c:\\Users\\aluno\\Desktop\\files_ml\\.conda\\Lib\\site-packages\\autogluon\\common\\loaders\\load_pkl.py\", line 43, in load\n",
      "    with compression_fn_map[compression_fn][\"open\"](validated_path, \"rb\", **compression_fn_kwargs) as fin:\n",
      "         ^^^^^^^^^^^^^^^^^^^^^^^^^^^^^^^^^^^^^^^^^^^^^^^^^^^^^^^^^^^^^^^^^^^^^^^^^^^^^^^^^^^^^^^^^\n",
      "FileNotFoundError: [Errno 2] No such file or directory: './AutoGlon/ds_sub_fit\\\\sub_fit_ho\\\\models\\\\KNeighborsUnif_BAG_L1\\\\utils\\\\oof.pkl'\n",
      "\n",
      "During handling of the above exception, another exception occurred:\n",
      "\n",
      "\u001b[36mray::_sub_fit()\u001b[39m (pid=14248, ip=127.0.0.1)\n",
      "  File \"python\\ray\\_raylet.pyx\", line 1883, in ray._raylet.execute_task\n",
      "  File \"python\\ray\\_raylet.pyx\", line 1984, in ray._raylet.execute_task\n",
      "  File \"python\\ray\\_raylet.pyx\", line 1889, in ray._raylet.execute_task\n",
      "  File \"c:\\Users\\aluno\\Desktop\\files_ml\\.conda\\Lib\\site-packages\\autogluon\\tabular\\predictor\\predictor.py\", line 4997, in _sub_fit\n",
      "    predictor._fit(ag_fit_kwargs=ag_fit_kwargs, ag_post_fit_kwargs=ag_post_fit_kwargs)\n",
      "  File \"c:\\Users\\aluno\\Desktop\\files_ml\\.conda\\Lib\\site-packages\\autogluon\\tabular\\predictor\\predictor.py\", line 1142, in _fit\n",
      "    self._learner.fit(**ag_fit_kwargs)\n",
      "  File \"c:\\Users\\aluno\\Desktop\\files_ml\\.conda\\Lib\\site-packages\\autogluon\\tabular\\learner\\abstract_learner.py\", line 159, in fit\n",
      "    return self._fit(X=X, X_val=X_val, **kwargs)\n",
      "           ^^^^^^^^^^^^^^^^^^^^^^^^^^^^^^^^^^^^^\n",
      "  File \"c:\\Users\\aluno\\Desktop\\files_ml\\.conda\\Lib\\site-packages\\autogluon\\tabular\\learner\\default_learner.py\", line 128, in _fit\n",
      "    trainer.fit(\n",
      "  File \"c:\\Users\\aluno\\Desktop\\files_ml\\.conda\\Lib\\site-packages\\autogluon\\tabular\\trainer\\auto_trainer.py\", line 125, in fit\n",
      "    self._train_multi_and_ensemble(\n",
      "  File \"c:\\Users\\aluno\\Desktop\\files_ml\\.conda\\Lib\\site-packages\\autogluon\\core\\trainer\\abstract_trainer.py\", line 2590, in _train_multi_and_ensemble\n",
      "    model_names_fit = self.train_multi_levels(\n",
      "                      ^^^^^^^^^^^^^^^^^^^^^^^^\n",
      "  File \"c:\\Users\\aluno\\Desktop\\files_ml\\.conda\\Lib\\site-packages\\autogluon\\core\\trainer\\abstract_trainer.py\", line 452, in train_multi_levels\n",
      "    base_model_names, aux_models = self.stack_new_level(\n",
      "                                   ^^^^^^^^^^^^^^^^^^^^^\n",
      "  File \"c:\\Users\\aluno\\Desktop\\files_ml\\.conda\\Lib\\site-packages\\autogluon\\core\\trainer\\abstract_trainer.py\", line 620, in stack_new_level\n",
      "    aux_models += self._stack_new_level_aux(X_val, y_val, X, y, all_base_model_names, level, infer_limit, infer_limit_batch_size, **full_aux_kwargs)\n",
      "                  ^^^^^^^^^^^^^^^^^^^^^^^^^^^^^^^^^^^^^^^^^^^^^^^^^^^^^^^^^^^^^^^^^^^^^^^^^^^^^^^^^^^^^^^^^^^^^^^^^^^^^^^^^^^^^^^^^^^^^^^^^^^^^^^^^^\n",
      "  File \"c:\\Users\\aluno\\Desktop\\files_ml\\.conda\\Lib\\site-packages\\autogluon\\core\\trainer\\abstract_trainer.py\", line 746, in _stack_new_level_aux\n",
      "    aux_models = self.stack_new_level_aux(\n",
      "                 ^^^^^^^^^^^^^^^^^^^^^^^^^\n",
      "  File \"c:\\Users\\aluno\\Desktop\\files_ml\\.conda\\Lib\\site-packages\\autogluon\\core\\trainer\\abstract_trainer.py\", line 803, in stack_new_level_aux\n",
      "    X_stack_preds = self.get_inputs_to_stacker(X, base_models=base_model_names, fit=fit, use_orig_features=False, use_val_cache=use_val_cache)\n",
      "                    ^^^^^^^^^^^^^^^^^^^^^^^^^^^^^^^^^^^^^^^^^^^^^^^^^^^^^^^^^^^^^^^^^^^^^^^^^^^^^^^^^^^^^^^^^^^^^^^^^^^^^^^^^^^^^^^^^^^^^^^^^^\n",
      "  File \"c:\\Users\\aluno\\Desktop\\files_ml\\.conda\\Lib\\site-packages\\autogluon\\core\\trainer\\abstract_trainer.py\", line 1280, in get_inputs_to_stacker\n",
      "    model_pred_proba_dict = self.get_model_oof_dict(models=base_models)\n",
      "                            ^^^^^^^^^^^^^^^^^^^^^^^^^^^^^^^^^^^^^^^^^^^\n",
      "  File \"c:\\Users\\aluno\\Desktop\\files_ml\\.conda\\Lib\\site-packages\\autogluon\\core\\trainer\\abstract_trainer.py\", line 1160, in get_model_oof_dict\n",
      "    return {model: self.get_model_oof(model) for model in models}\n",
      "           ^^^^^^^^^^^^^^^^^^^^^^^^^^^^^^^^^^^^^^^^^^^^^^^^^^^^^^\n",
      "  File \"c:\\Users\\aluno\\Desktop\\files_ml\\.conda\\Lib\\site-packages\\autogluon\\core\\trainer\\abstract_trainer.py\", line 1160, in <dictcomp>\n",
      "    return {model: self.get_model_oof(model) for model in models}\n",
      "                   ^^^^^^^^^^^^^^^^^^^^^^^^^\n",
      "  File \"c:\\Users\\aluno\\Desktop\\files_ml\\.conda\\Lib\\site-packages\\autogluon\\core\\trainer\\abstract_trainer.py\", line 1208, in get_model_oof\n",
      "    return model_type.load_oof(path=os.path.join(self.path, model_path))\n",
      "           ^^^^^^^^^^^^^^^^^^^^^^^^^^^^^^^^^^^^^^^^^^^^^^^^^^^^^^^^^^^^^\n",
      "  File \"c:\\Users\\aluno\\Desktop\\files_ml\\.conda\\Lib\\site-packages\\autogluon\\core\\models\\ensemble\\bagged_ensemble_model.py\", line 1125, in load_oof\n",
      "    model = cls.load(path=path, reset_paths=True, verbose=verbose)\n",
      "            ^^^^^^^^^^^^^^^^^^^^^^^^^^^^^^^^^^^^^^^^^^^^^^^^^^^^^^\n",
      "  File \"c:\\Users\\aluno\\Desktop\\files_ml\\.conda\\Lib\\site-packages\\autogluon\\core\\models\\ensemble\\bagged_ensemble_model.py\", line 1111, in load\n",
      "    model = super().load(path=path, reset_paths=reset_paths, verbose=verbose)\n",
      "            ^^^^^^^^^^^^^^^^^^^^^^^^^^^^^^^^^^^^^^^^^^^^^^^^^^^^^^^^^^^^^^^^^\n",
      "  File \"c:\\Users\\aluno\\Desktop\\files_ml\\.conda\\Lib\\site-packages\\autogluon\\core\\models\\abstract\\abstract_model.py\", line 1097, in load\n",
      "    model = load_pkl.load(path=file_path, verbose=verbose)\n",
      "            ^^^^^^^^^^^^^^^^^^^^^^^^^^^^^^^^^^^^^^^^^^^^^^\n",
      "  File \"c:\\Users\\aluno\\Desktop\\files_ml\\.conda\\Lib\\site-packages\\autogluon\\common\\loaders\\load_pkl.py\", line 43, in load\n",
      "    with compression_fn_map[compression_fn][\"open\"](validated_path, \"rb\", **compression_fn_kwargs) as fin:\n",
      "         ^^^^^^^^^^^^^^^^^^^^^^^^^^^^^^^^^^^^^^^^^^^^^^^^^^^^^^^^^^^^^^^^^^^^^^^^^^^^^^^^^^^^^^^^^\n",
      "FileNotFoundError: [Errno 2] No such file or directory: './AutoGlon/ds_sub_fit\\\\sub_fit_ho\\\\models\\\\KNeighborsUnif_BAG_L1\\\\model.pkl'\n"
     ]
    }
   ],
   "source": [
    "predictor = TabularPredictor(label=\"y\",\n",
    "                             problem_type='binary',\n",
    "                             eval_metric=\"log_loss\",\n",
    "                             path='./AutoGlon/',\n",
    "                             verbosity=1)\n",
    "hyperparameters = predictor.get_hyperparameter_config('default')\n",
    "#predictor.fit(train, presets='medium_quality')\n",
    "\n",
    "#results = predictor.fit_summary()"
   ]
  },
  {
   "cell_type": "markdown",
   "metadata": {},
   "source": [
    "Get predictions"
   ]
  },
  {
   "cell_type": "code",
   "execution_count": 37,
   "metadata": {},
   "outputs": [
    {
     "name": "stderr",
     "output_type": "stream",
     "text": [
      "C:\\Users\\aluno\\AppData\\Local\\Temp\\ipykernel_11476\\997680543.py:1: DeprecationWarning: `get_model_names` has been deprecated and will be removed in version 1.2. Please use `model_names` instead. This will raise an error in the future!\n",
      "  predictor.get_model_names()\n"
     ]
    },
    {
     "data": {
      "text/plain": [
       "['KNeighborsUnif',\n",
       " 'KNeighborsDist',\n",
       " 'LightGBMXT',\n",
       " 'LightGBM',\n",
       " 'RandomForestGini',\n",
       " 'RandomForestEntr',\n",
       " 'CatBoost',\n",
       " 'ExtraTreesGini',\n",
       " 'ExtraTreesEntr',\n",
       " 'NeuralNetFastAI',\n",
       " 'XGBoost',\n",
       " 'NeuralNetTorch',\n",
       " 'LightGBMLarge',\n",
       " 'WeightedEnsemble_L2']"
      ]
     },
     "execution_count": 37,
     "metadata": {},
     "output_type": "execute_result"
    }
   ],
   "source": [
    "predictor.get_model_names()"
   ]
  },
  {
   "cell_type": "code",
   "execution_count": 39,
   "metadata": {},
   "outputs": [
    {
     "ename": "AssertionError",
     "evalue": "Predictor must be in bagged mode to get out-of-fold predictions.",
     "output_type": "error",
     "traceback": [
      "\u001b[1;31m---------------------------------------------------------------------------\u001b[0m",
      "\u001b[1;31mAssertionError\u001b[0m                            Traceback (most recent call last)",
      "Cell \u001b[1;32mIn[39], line 1\u001b[0m\n\u001b[1;32m----> 1\u001b[0m y_oof \u001b[38;5;241m=\u001b[39m \u001b[43mpredictor\u001b[49m\u001b[38;5;241;43m.\u001b[39;49m\u001b[43mpredict_proba_oof\u001b[49m\u001b[43m(\u001b[49m\u001b[43mmodel\u001b[49m\u001b[38;5;241;43m=\u001b[39;49m\u001b[38;5;124;43m'\u001b[39;49m\u001b[38;5;124;43mKNeighborsUnif\u001b[39;49m\u001b[38;5;124;43m'\u001b[39;49m\u001b[43m)\u001b[49m\n\u001b[0;32m      2\u001b[0m y_pred \u001b[38;5;241m=\u001b[39m predictor\u001b[38;5;241m.\u001b[39mpredict_proba(test)\u001b[38;5;241m.\u001b[39miloc[:,\u001b[38;5;241m1\u001b[39m]\n",
      "File \u001b[1;32mc:\\Users\\aluno\\Desktop\\files_ml\\.conda\\Lib\\site-packages\\autogluon\\tabular\\predictor\\predictor.py:3540\u001b[0m, in \u001b[0;36mTabularPredictor.predict_proba_oof\u001b[1;34m(self, model, transformed, as_multiclass, train_data, internal_oof, can_infer)\u001b[0m\n\u001b[0;32m   3538\u001b[0m     model \u001b[38;5;241m=\u001b[39m \u001b[38;5;28mself\u001b[39m\u001b[38;5;241m.\u001b[39m_model_best(can_infer\u001b[38;5;241m=\u001b[39mcan_infer)\n\u001b[0;32m   3539\u001b[0m \u001b[38;5;28;01mif\u001b[39;00m \u001b[38;5;129;01mnot\u001b[39;00m \u001b[38;5;28mself\u001b[39m\u001b[38;5;241m.\u001b[39m_trainer\u001b[38;5;241m.\u001b[39mbagged_mode:\n\u001b[1;32m-> 3540\u001b[0m     \u001b[38;5;28;01mraise\u001b[39;00m \u001b[38;5;167;01mAssertionError\u001b[39;00m(\u001b[38;5;124m\"\u001b[39m\u001b[38;5;124mPredictor must be in bagged mode to get out-of-fold predictions.\u001b[39m\u001b[38;5;124m\"\u001b[39m)\n\u001b[0;32m   3541\u001b[0m \u001b[38;5;28;01mif\u001b[39;00m \u001b[38;5;28mself\u001b[39m\u001b[38;5;241m.\u001b[39m_trainer\u001b[38;5;241m.\u001b[39mget_model_attribute(model\u001b[38;5;241m=\u001b[39mmodel, attribute\u001b[38;5;241m=\u001b[39m\u001b[38;5;124m\"\u001b[39m\u001b[38;5;124mrefit_full\u001b[39m\u001b[38;5;124m\"\u001b[39m, default\u001b[38;5;241m=\u001b[39m\u001b[38;5;28;01mFalse\u001b[39;00m):\n\u001b[0;32m   3542\u001b[0m     model_to_get_oof \u001b[38;5;241m=\u001b[39m \u001b[38;5;28mself\u001b[39m\u001b[38;5;241m.\u001b[39m_trainer\u001b[38;5;241m.\u001b[39mget_model_attribute(model\u001b[38;5;241m=\u001b[39mmodel, attribute\u001b[38;5;241m=\u001b[39m\u001b[38;5;124m\"\u001b[39m\u001b[38;5;124mrefit_full_parent\u001b[39m\u001b[38;5;124m\"\u001b[39m)\n",
      "\u001b[1;31mAssertionError\u001b[0m: Predictor must be in bagged mode to get out-of-fold predictions."
     ]
    }
   ],
   "source": [
    "y_oof = predictor.predict_proba_oof(model='KNeighborsUnif').iloc[:,1]\n",
    "y_pred = predictor.predict_proba(test).iloc[:,1]"
   ]
  },
  {
   "cell_type": "markdown",
   "metadata": {},
   "source": [
    "check threshold between predict value and train value"
   ]
  },
  {
   "cell_type": "code",
   "execution_count": 36,
   "metadata": {},
   "outputs": [
    {
     "ename": "ValueError",
     "evalue": "Found input variables with inconsistent numbers of samples: [14123, 21183]",
     "output_type": "error",
     "traceback": [
      "\u001b[1;31m---------------------------------------------------------------------------\u001b[0m",
      "\u001b[1;31mValueError\u001b[0m                                Traceback (most recent call last)",
      "Cell \u001b[1;32mIn[36], line 1\u001b[0m\n\u001b[1;32m----> 1\u001b[0m final_threshold \u001b[38;5;241m=\u001b[39m \u001b[43mget_threshold\u001b[49m\u001b[43m(\u001b[49m\u001b[43mtrain\u001b[49m\u001b[38;5;241;43m.\u001b[39;49m\u001b[43my\u001b[49m\u001b[43m,\u001b[49m\u001b[43m \u001b[49m\u001b[43my_pred\u001b[49m\u001b[43m)\u001b[49m\n",
      "Cell \u001b[1;32mIn[21], line 7\u001b[0m, in \u001b[0;36mget_threshold\u001b[1;34m(y_true, y_pred)\u001b[0m\n\u001b[0;32m      4\u001b[0m f1_scores \u001b[38;5;241m=\u001b[39m []\n\u001b[0;32m      5\u001b[0m \u001b[38;5;28;01mfor\u001b[39;00m thresh \u001b[38;5;129;01min\u001b[39;00m thresholds:\n\u001b[0;32m      6\u001b[0m     f1_scores\u001b[38;5;241m.\u001b[39mappend(\n\u001b[1;32m----> 7\u001b[0m         \u001b[43mf1_score\u001b[49m\u001b[43m(\u001b[49m\u001b[43my_true\u001b[49m\u001b[43m,\u001b[49m\u001b[43m \u001b[49m\u001b[43m[\u001b[49m\u001b[38;5;241;43m1\u001b[39;49m\u001b[43m \u001b[49m\u001b[38;5;28;43;01mif\u001b[39;49;00m\u001b[43m \u001b[49m\u001b[43mm\u001b[49m\u001b[38;5;241;43m>\u001b[39;49m\u001b[43mthresh\u001b[49m\u001b[43m \u001b[49m\u001b[38;5;28;43;01melse\u001b[39;49;00m\u001b[43m \u001b[49m\u001b[38;5;241;43m0\u001b[39;49m\u001b[43m \u001b[49m\u001b[38;5;28;43;01mfor\u001b[39;49;00m\u001b[43m \u001b[49m\u001b[43mm\u001b[49m\u001b[43m \u001b[49m\u001b[38;5;129;43;01min\u001b[39;49;00m\u001b[43m \u001b[49m\u001b[43my_pred\u001b[49m\u001b[43m]\u001b[49m\u001b[43m)\u001b[49m)\n\u001b[0;32m      8\u001b[0m f1s \u001b[38;5;241m=\u001b[39m np\u001b[38;5;241m.\u001b[39marray(f1_scores)\n\u001b[0;32m      9\u001b[0m \u001b[38;5;28;01mreturn\u001b[39;00m thresholds[f1s\u001b[38;5;241m.\u001b[39margmax()]\n",
      "File \u001b[1;32mc:\\Users\\aluno\\Desktop\\files_ml\\.conda\\Lib\\site-packages\\sklearn\\utils\\_param_validation.py:213\u001b[0m, in \u001b[0;36mvalidate_params.<locals>.decorator.<locals>.wrapper\u001b[1;34m(*args, **kwargs)\u001b[0m\n\u001b[0;32m    207\u001b[0m \u001b[38;5;28;01mtry\u001b[39;00m:\n\u001b[0;32m    208\u001b[0m     \u001b[38;5;28;01mwith\u001b[39;00m config_context(\n\u001b[0;32m    209\u001b[0m         skip_parameter_validation\u001b[38;5;241m=\u001b[39m(\n\u001b[0;32m    210\u001b[0m             prefer_skip_nested_validation \u001b[38;5;129;01mor\u001b[39;00m global_skip_validation\n\u001b[0;32m    211\u001b[0m         )\n\u001b[0;32m    212\u001b[0m     ):\n\u001b[1;32m--> 213\u001b[0m         \u001b[38;5;28;01mreturn\u001b[39;00m \u001b[43mfunc\u001b[49m\u001b[43m(\u001b[49m\u001b[38;5;241;43m*\u001b[39;49m\u001b[43margs\u001b[49m\u001b[43m,\u001b[49m\u001b[43m \u001b[49m\u001b[38;5;241;43m*\u001b[39;49m\u001b[38;5;241;43m*\u001b[39;49m\u001b[43mkwargs\u001b[49m\u001b[43m)\u001b[49m\n\u001b[0;32m    214\u001b[0m \u001b[38;5;28;01mexcept\u001b[39;00m InvalidParameterError \u001b[38;5;28;01mas\u001b[39;00m e:\n\u001b[0;32m    215\u001b[0m     \u001b[38;5;66;03m# When the function is just a wrapper around an estimator, we allow\u001b[39;00m\n\u001b[0;32m    216\u001b[0m     \u001b[38;5;66;03m# the function to delegate validation to the estimator, but we replace\u001b[39;00m\n\u001b[0;32m    217\u001b[0m     \u001b[38;5;66;03m# the name of the estimator by the name of the function in the error\u001b[39;00m\n\u001b[0;32m    218\u001b[0m     \u001b[38;5;66;03m# message to avoid confusion.\u001b[39;00m\n\u001b[0;32m    219\u001b[0m     msg \u001b[38;5;241m=\u001b[39m re\u001b[38;5;241m.\u001b[39msub(\n\u001b[0;32m    220\u001b[0m         \u001b[38;5;124mr\u001b[39m\u001b[38;5;124m\"\u001b[39m\u001b[38;5;124mparameter of \u001b[39m\u001b[38;5;124m\\\u001b[39m\u001b[38;5;124mw+ must be\u001b[39m\u001b[38;5;124m\"\u001b[39m,\n\u001b[0;32m    221\u001b[0m         \u001b[38;5;124mf\u001b[39m\u001b[38;5;124m\"\u001b[39m\u001b[38;5;124mparameter of \u001b[39m\u001b[38;5;132;01m{\u001b[39;00mfunc\u001b[38;5;241m.\u001b[39m\u001b[38;5;18m__qualname__\u001b[39m\u001b[38;5;132;01m}\u001b[39;00m\u001b[38;5;124m must be\u001b[39m\u001b[38;5;124m\"\u001b[39m,\n\u001b[0;32m    222\u001b[0m         \u001b[38;5;28mstr\u001b[39m(e),\n\u001b[0;32m    223\u001b[0m     )\n",
      "File \u001b[1;32mc:\\Users\\aluno\\Desktop\\files_ml\\.conda\\Lib\\site-packages\\sklearn\\metrics\\_classification.py:1269\u001b[0m, in \u001b[0;36mf1_score\u001b[1;34m(y_true, y_pred, labels, pos_label, average, sample_weight, zero_division)\u001b[0m\n\u001b[0;32m   1091\u001b[0m \u001b[38;5;129m@validate_params\u001b[39m(\n\u001b[0;32m   1092\u001b[0m     {\n\u001b[0;32m   1093\u001b[0m         \u001b[38;5;124m\"\u001b[39m\u001b[38;5;124my_true\u001b[39m\u001b[38;5;124m\"\u001b[39m: [\u001b[38;5;124m\"\u001b[39m\u001b[38;5;124marray-like\u001b[39m\u001b[38;5;124m\"\u001b[39m, \u001b[38;5;124m\"\u001b[39m\u001b[38;5;124msparse matrix\u001b[39m\u001b[38;5;124m\"\u001b[39m],\n\u001b[1;32m   (...)\u001b[0m\n\u001b[0;32m   1118\u001b[0m     zero_division\u001b[38;5;241m=\u001b[39m\u001b[38;5;124m\"\u001b[39m\u001b[38;5;124mwarn\u001b[39m\u001b[38;5;124m\"\u001b[39m,\n\u001b[0;32m   1119\u001b[0m ):\n\u001b[0;32m   1120\u001b[0m \u001b[38;5;250m    \u001b[39m\u001b[38;5;124;03m\"\"\"Compute the F1 score, also known as balanced F-score or F-measure.\u001b[39;00m\n\u001b[0;32m   1121\u001b[0m \n\u001b[0;32m   1122\u001b[0m \u001b[38;5;124;03m    The F1 score can be interpreted as a harmonic mean of the precision and\u001b[39;00m\n\u001b[1;32m   (...)\u001b[0m\n\u001b[0;32m   1267\u001b[0m \u001b[38;5;124;03m    array([0.66666667, 1.        , 0.66666667])\u001b[39;00m\n\u001b[0;32m   1268\u001b[0m \u001b[38;5;124;03m    \"\"\"\u001b[39;00m\n\u001b[1;32m-> 1269\u001b[0m     \u001b[38;5;28;01mreturn\u001b[39;00m \u001b[43mfbeta_score\u001b[49m\u001b[43m(\u001b[49m\n\u001b[0;32m   1270\u001b[0m \u001b[43m        \u001b[49m\u001b[43my_true\u001b[49m\u001b[43m,\u001b[49m\n\u001b[0;32m   1271\u001b[0m \u001b[43m        \u001b[49m\u001b[43my_pred\u001b[49m\u001b[43m,\u001b[49m\n\u001b[0;32m   1272\u001b[0m \u001b[43m        \u001b[49m\u001b[43mbeta\u001b[49m\u001b[38;5;241;43m=\u001b[39;49m\u001b[38;5;241;43m1\u001b[39;49m\u001b[43m,\u001b[49m\n\u001b[0;32m   1273\u001b[0m \u001b[43m        \u001b[49m\u001b[43mlabels\u001b[49m\u001b[38;5;241;43m=\u001b[39;49m\u001b[43mlabels\u001b[49m\u001b[43m,\u001b[49m\n\u001b[0;32m   1274\u001b[0m \u001b[43m        \u001b[49m\u001b[43mpos_label\u001b[49m\u001b[38;5;241;43m=\u001b[39;49m\u001b[43mpos_label\u001b[49m\u001b[43m,\u001b[49m\n\u001b[0;32m   1275\u001b[0m \u001b[43m        \u001b[49m\u001b[43maverage\u001b[49m\u001b[38;5;241;43m=\u001b[39;49m\u001b[43maverage\u001b[49m\u001b[43m,\u001b[49m\n\u001b[0;32m   1276\u001b[0m \u001b[43m        \u001b[49m\u001b[43msample_weight\u001b[49m\u001b[38;5;241;43m=\u001b[39;49m\u001b[43msample_weight\u001b[49m\u001b[43m,\u001b[49m\n\u001b[0;32m   1277\u001b[0m \u001b[43m        \u001b[49m\u001b[43mzero_division\u001b[49m\u001b[38;5;241;43m=\u001b[39;49m\u001b[43mzero_division\u001b[49m\u001b[43m,\u001b[49m\n\u001b[0;32m   1278\u001b[0m \u001b[43m    \u001b[49m\u001b[43m)\u001b[49m\n",
      "File \u001b[1;32mc:\\Users\\aluno\\Desktop\\files_ml\\.conda\\Lib\\site-packages\\sklearn\\utils\\_param_validation.py:186\u001b[0m, in \u001b[0;36mvalidate_params.<locals>.decorator.<locals>.wrapper\u001b[1;34m(*args, **kwargs)\u001b[0m\n\u001b[0;32m    184\u001b[0m global_skip_validation \u001b[38;5;241m=\u001b[39m get_config()[\u001b[38;5;124m\"\u001b[39m\u001b[38;5;124mskip_parameter_validation\u001b[39m\u001b[38;5;124m\"\u001b[39m]\n\u001b[0;32m    185\u001b[0m \u001b[38;5;28;01mif\u001b[39;00m global_skip_validation:\n\u001b[1;32m--> 186\u001b[0m     \u001b[38;5;28;01mreturn\u001b[39;00m \u001b[43mfunc\u001b[49m\u001b[43m(\u001b[49m\u001b[38;5;241;43m*\u001b[39;49m\u001b[43margs\u001b[49m\u001b[43m,\u001b[49m\u001b[43m \u001b[49m\u001b[38;5;241;43m*\u001b[39;49m\u001b[38;5;241;43m*\u001b[39;49m\u001b[43mkwargs\u001b[49m\u001b[43m)\u001b[49m\n\u001b[0;32m    188\u001b[0m func_sig \u001b[38;5;241m=\u001b[39m signature(func)\n\u001b[0;32m    190\u001b[0m \u001b[38;5;66;03m# Map *args/**kwargs to the function signature\u001b[39;00m\n",
      "File \u001b[1;32mc:\\Users\\aluno\\Desktop\\files_ml\\.conda\\Lib\\site-packages\\sklearn\\metrics\\_classification.py:1451\u001b[0m, in \u001b[0;36mfbeta_score\u001b[1;34m(y_true, y_pred, beta, labels, pos_label, average, sample_weight, zero_division)\u001b[0m\n\u001b[0;32m   1281\u001b[0m \u001b[38;5;129m@validate_params\u001b[39m(\n\u001b[0;32m   1282\u001b[0m     {\n\u001b[0;32m   1283\u001b[0m         \u001b[38;5;124m\"\u001b[39m\u001b[38;5;124my_true\u001b[39m\u001b[38;5;124m\"\u001b[39m: [\u001b[38;5;124m\"\u001b[39m\u001b[38;5;124marray-like\u001b[39m\u001b[38;5;124m\"\u001b[39m, \u001b[38;5;124m\"\u001b[39m\u001b[38;5;124msparse matrix\u001b[39m\u001b[38;5;124m\"\u001b[39m],\n\u001b[1;32m   (...)\u001b[0m\n\u001b[0;32m   1310\u001b[0m     zero_division\u001b[38;5;241m=\u001b[39m\u001b[38;5;124m\"\u001b[39m\u001b[38;5;124mwarn\u001b[39m\u001b[38;5;124m\"\u001b[39m,\n\u001b[0;32m   1311\u001b[0m ):\n\u001b[0;32m   1312\u001b[0m \u001b[38;5;250m    \u001b[39m\u001b[38;5;124;03m\"\"\"Compute the F-beta score.\u001b[39;00m\n\u001b[0;32m   1313\u001b[0m \n\u001b[0;32m   1314\u001b[0m \u001b[38;5;124;03m    The F-beta score is the weighted harmonic mean of precision and recall,\u001b[39;00m\n\u001b[1;32m   (...)\u001b[0m\n\u001b[0;32m   1448\u001b[0m \u001b[38;5;124;03m    0.12...\u001b[39;00m\n\u001b[0;32m   1449\u001b[0m \u001b[38;5;124;03m    \"\"\"\u001b[39;00m\n\u001b[1;32m-> 1451\u001b[0m     _, _, f, _ \u001b[38;5;241m=\u001b[39m \u001b[43mprecision_recall_fscore_support\u001b[49m\u001b[43m(\u001b[49m\n\u001b[0;32m   1452\u001b[0m \u001b[43m        \u001b[49m\u001b[43my_true\u001b[49m\u001b[43m,\u001b[49m\n\u001b[0;32m   1453\u001b[0m \u001b[43m        \u001b[49m\u001b[43my_pred\u001b[49m\u001b[43m,\u001b[49m\n\u001b[0;32m   1454\u001b[0m \u001b[43m        \u001b[49m\u001b[43mbeta\u001b[49m\u001b[38;5;241;43m=\u001b[39;49m\u001b[43mbeta\u001b[49m\u001b[43m,\u001b[49m\n\u001b[0;32m   1455\u001b[0m \u001b[43m        \u001b[49m\u001b[43mlabels\u001b[49m\u001b[38;5;241;43m=\u001b[39;49m\u001b[43mlabels\u001b[49m\u001b[43m,\u001b[49m\n\u001b[0;32m   1456\u001b[0m \u001b[43m        \u001b[49m\u001b[43mpos_label\u001b[49m\u001b[38;5;241;43m=\u001b[39;49m\u001b[43mpos_label\u001b[49m\u001b[43m,\u001b[49m\n\u001b[0;32m   1457\u001b[0m \u001b[43m        \u001b[49m\u001b[43maverage\u001b[49m\u001b[38;5;241;43m=\u001b[39;49m\u001b[43maverage\u001b[49m\u001b[43m,\u001b[49m\n\u001b[0;32m   1458\u001b[0m \u001b[43m        \u001b[49m\u001b[43mwarn_for\u001b[49m\u001b[38;5;241;43m=\u001b[39;49m\u001b[43m(\u001b[49m\u001b[38;5;124;43m\"\u001b[39;49m\u001b[38;5;124;43mf-score\u001b[39;49m\u001b[38;5;124;43m\"\u001b[39;49m\u001b[43m,\u001b[49m\u001b[43m)\u001b[49m\u001b[43m,\u001b[49m\n\u001b[0;32m   1459\u001b[0m \u001b[43m        \u001b[49m\u001b[43msample_weight\u001b[49m\u001b[38;5;241;43m=\u001b[39;49m\u001b[43msample_weight\u001b[49m\u001b[43m,\u001b[49m\n\u001b[0;32m   1460\u001b[0m \u001b[43m        \u001b[49m\u001b[43mzero_division\u001b[49m\u001b[38;5;241;43m=\u001b[39;49m\u001b[43mzero_division\u001b[49m\u001b[43m,\u001b[49m\n\u001b[0;32m   1461\u001b[0m \u001b[43m    \u001b[49m\u001b[43m)\u001b[49m\n\u001b[0;32m   1462\u001b[0m     \u001b[38;5;28;01mreturn\u001b[39;00m f\n",
      "File \u001b[1;32mc:\\Users\\aluno\\Desktop\\files_ml\\.conda\\Lib\\site-packages\\sklearn\\utils\\_param_validation.py:186\u001b[0m, in \u001b[0;36mvalidate_params.<locals>.decorator.<locals>.wrapper\u001b[1;34m(*args, **kwargs)\u001b[0m\n\u001b[0;32m    184\u001b[0m global_skip_validation \u001b[38;5;241m=\u001b[39m get_config()[\u001b[38;5;124m\"\u001b[39m\u001b[38;5;124mskip_parameter_validation\u001b[39m\u001b[38;5;124m\"\u001b[39m]\n\u001b[0;32m    185\u001b[0m \u001b[38;5;28;01mif\u001b[39;00m global_skip_validation:\n\u001b[1;32m--> 186\u001b[0m     \u001b[38;5;28;01mreturn\u001b[39;00m \u001b[43mfunc\u001b[49m\u001b[43m(\u001b[49m\u001b[38;5;241;43m*\u001b[39;49m\u001b[43margs\u001b[49m\u001b[43m,\u001b[49m\u001b[43m \u001b[49m\u001b[38;5;241;43m*\u001b[39;49m\u001b[38;5;241;43m*\u001b[39;49m\u001b[43mkwargs\u001b[49m\u001b[43m)\u001b[49m\n\u001b[0;32m    188\u001b[0m func_sig \u001b[38;5;241m=\u001b[39m signature(func)\n\u001b[0;32m    190\u001b[0m \u001b[38;5;66;03m# Map *args/**kwargs to the function signature\u001b[39;00m\n",
      "File \u001b[1;32mc:\\Users\\aluno\\Desktop\\files_ml\\.conda\\Lib\\site-packages\\sklearn\\metrics\\_classification.py:1755\u001b[0m, in \u001b[0;36mprecision_recall_fscore_support\u001b[1;34m(y_true, y_pred, beta, labels, pos_label, average, warn_for, sample_weight, zero_division)\u001b[0m\n\u001b[0;32m   1592\u001b[0m \u001b[38;5;250m\u001b[39m\u001b[38;5;124;03m\"\"\"Compute precision, recall, F-measure and support for each class.\u001b[39;00m\n\u001b[0;32m   1593\u001b[0m \n\u001b[0;32m   1594\u001b[0m \u001b[38;5;124;03mThe precision is the ratio ``tp / (tp + fp)`` where ``tp`` is the number of\u001b[39;00m\n\u001b[1;32m   (...)\u001b[0m\n\u001b[0;32m   1752\u001b[0m \u001b[38;5;124;03m array([2, 2, 2]))\u001b[39;00m\n\u001b[0;32m   1753\u001b[0m \u001b[38;5;124;03m\"\"\"\u001b[39;00m\n\u001b[0;32m   1754\u001b[0m _check_zero_division(zero_division)\n\u001b[1;32m-> 1755\u001b[0m labels \u001b[38;5;241m=\u001b[39m \u001b[43m_check_set_wise_labels\u001b[49m\u001b[43m(\u001b[49m\u001b[43my_true\u001b[49m\u001b[43m,\u001b[49m\u001b[43m \u001b[49m\u001b[43my_pred\u001b[49m\u001b[43m,\u001b[49m\u001b[43m \u001b[49m\u001b[43maverage\u001b[49m\u001b[43m,\u001b[49m\u001b[43m \u001b[49m\u001b[43mlabels\u001b[49m\u001b[43m,\u001b[49m\u001b[43m \u001b[49m\u001b[43mpos_label\u001b[49m\u001b[43m)\u001b[49m\n\u001b[0;32m   1757\u001b[0m \u001b[38;5;66;03m# Calculate tp_sum, pred_sum, true_sum ###\u001b[39;00m\n\u001b[0;32m   1758\u001b[0m samplewise \u001b[38;5;241m=\u001b[39m average \u001b[38;5;241m==\u001b[39m \u001b[38;5;124m\"\u001b[39m\u001b[38;5;124msamples\u001b[39m\u001b[38;5;124m\"\u001b[39m\n",
      "File \u001b[1;32mc:\\Users\\aluno\\Desktop\\files_ml\\.conda\\Lib\\site-packages\\sklearn\\metrics\\_classification.py:1527\u001b[0m, in \u001b[0;36m_check_set_wise_labels\u001b[1;34m(y_true, y_pred, average, labels, pos_label)\u001b[0m\n\u001b[0;32m   1524\u001b[0m \u001b[38;5;28;01mif\u001b[39;00m average \u001b[38;5;129;01mnot\u001b[39;00m \u001b[38;5;129;01min\u001b[39;00m average_options \u001b[38;5;129;01mand\u001b[39;00m average \u001b[38;5;241m!=\u001b[39m \u001b[38;5;124m\"\u001b[39m\u001b[38;5;124mbinary\u001b[39m\u001b[38;5;124m\"\u001b[39m:\n\u001b[0;32m   1525\u001b[0m     \u001b[38;5;28;01mraise\u001b[39;00m \u001b[38;5;167;01mValueError\u001b[39;00m(\u001b[38;5;124m\"\u001b[39m\u001b[38;5;124maverage has to be one of \u001b[39m\u001b[38;5;124m\"\u001b[39m \u001b[38;5;241m+\u001b[39m \u001b[38;5;28mstr\u001b[39m(average_options))\n\u001b[1;32m-> 1527\u001b[0m y_type, y_true, y_pred \u001b[38;5;241m=\u001b[39m \u001b[43m_check_targets\u001b[49m\u001b[43m(\u001b[49m\u001b[43my_true\u001b[49m\u001b[43m,\u001b[49m\u001b[43m \u001b[49m\u001b[43my_pred\u001b[49m\u001b[43m)\u001b[49m\n\u001b[0;32m   1528\u001b[0m \u001b[38;5;66;03m# Convert to Python primitive type to avoid NumPy type / Python str\u001b[39;00m\n\u001b[0;32m   1529\u001b[0m \u001b[38;5;66;03m# comparison. See https://github.com/numpy/numpy/issues/6784\u001b[39;00m\n\u001b[0;32m   1530\u001b[0m present_labels \u001b[38;5;241m=\u001b[39m unique_labels(y_true, y_pred)\u001b[38;5;241m.\u001b[39mtolist()\n",
      "File \u001b[1;32mc:\\Users\\aluno\\Desktop\\files_ml\\.conda\\Lib\\site-packages\\sklearn\\metrics\\_classification.py:85\u001b[0m, in \u001b[0;36m_check_targets\u001b[1;34m(y_true, y_pred)\u001b[0m\n\u001b[0;32m     58\u001b[0m \u001b[38;5;28;01mdef\u001b[39;00m \u001b[38;5;21m_check_targets\u001b[39m(y_true, y_pred):\n\u001b[0;32m     59\u001b[0m \u001b[38;5;250m    \u001b[39m\u001b[38;5;124;03m\"\"\"Check that y_true and y_pred belong to the same classification task.\u001b[39;00m\n\u001b[0;32m     60\u001b[0m \n\u001b[0;32m     61\u001b[0m \u001b[38;5;124;03m    This converts multiclass or binary types to a common shape, and raises a\u001b[39;00m\n\u001b[1;32m   (...)\u001b[0m\n\u001b[0;32m     83\u001b[0m \u001b[38;5;124;03m    y_pred : array or indicator matrix\u001b[39;00m\n\u001b[0;32m     84\u001b[0m \u001b[38;5;124;03m    \"\"\"\u001b[39;00m\n\u001b[1;32m---> 85\u001b[0m     \u001b[43mcheck_consistent_length\u001b[49m\u001b[43m(\u001b[49m\u001b[43my_true\u001b[49m\u001b[43m,\u001b[49m\u001b[43m \u001b[49m\u001b[43my_pred\u001b[49m\u001b[43m)\u001b[49m\n\u001b[0;32m     86\u001b[0m     type_true \u001b[38;5;241m=\u001b[39m type_of_target(y_true, input_name\u001b[38;5;241m=\u001b[39m\u001b[38;5;124m\"\u001b[39m\u001b[38;5;124my_true\u001b[39m\u001b[38;5;124m\"\u001b[39m)\n\u001b[0;32m     87\u001b[0m     type_pred \u001b[38;5;241m=\u001b[39m type_of_target(y_pred, input_name\u001b[38;5;241m=\u001b[39m\u001b[38;5;124m\"\u001b[39m\u001b[38;5;124my_pred\u001b[39m\u001b[38;5;124m\"\u001b[39m)\n",
      "File \u001b[1;32mc:\\Users\\aluno\\Desktop\\files_ml\\.conda\\Lib\\site-packages\\sklearn\\utils\\validation.py:430\u001b[0m, in \u001b[0;36mcheck_consistent_length\u001b[1;34m(*arrays)\u001b[0m\n\u001b[0;32m    428\u001b[0m uniques \u001b[38;5;241m=\u001b[39m np\u001b[38;5;241m.\u001b[39munique(lengths)\n\u001b[0;32m    429\u001b[0m \u001b[38;5;28;01mif\u001b[39;00m \u001b[38;5;28mlen\u001b[39m(uniques) \u001b[38;5;241m>\u001b[39m \u001b[38;5;241m1\u001b[39m:\n\u001b[1;32m--> 430\u001b[0m     \u001b[38;5;28;01mraise\u001b[39;00m \u001b[38;5;167;01mValueError\u001b[39;00m(\n\u001b[0;32m    431\u001b[0m         \u001b[38;5;124m\"\u001b[39m\u001b[38;5;124mFound input variables with inconsistent numbers of samples: \u001b[39m\u001b[38;5;132;01m%r\u001b[39;00m\u001b[38;5;124m\"\u001b[39m\n\u001b[0;32m    432\u001b[0m         \u001b[38;5;241m%\u001b[39m [\u001b[38;5;28mint\u001b[39m(l) \u001b[38;5;28;01mfor\u001b[39;00m l \u001b[38;5;129;01min\u001b[39;00m lengths]\n\u001b[0;32m    433\u001b[0m     )\n",
      "\u001b[1;31mValueError\u001b[0m: Found input variables with inconsistent numbers of samples: [14123, 21183]"
     ]
    }
   ],
   "source": [
    "final_threshold = get_threshold(train.y, y_oof)"
   ]
  },
  {
   "cell_type": "code",
   "execution_count": null,
   "metadata": {},
   "outputs": [],
   "source": [
    "print(final_threshold)"
   ]
  }
 ],
 "metadata": {
  "kernelspec": {
   "display_name": "Python 3",
   "language": "python",
   "name": "python3"
  },
  "language_info": {
   "codemirror_mode": {
    "name": "ipython",
    "version": 3
   },
   "file_extension": ".py",
   "mimetype": "text/x-python",
   "name": "python",
   "nbconvert_exporter": "python",
   "pygments_lexer": "ipython3",
   "version": "3.11.9"
  }
 },
 "nbformat": 4,
 "nbformat_minor": 2
}
